{
  "nbformat": 4,
  "nbformat_minor": 0,
  "metadata": {
    "colab": {
      "provenance": [],
      "toc_visible": true
    },
    "kernelspec": {
      "name": "python3",
      "display_name": "Python 3"
    }
  },
  "cells": [
    {
      "cell_type": "markdown",
      "metadata": {
        "id": "L_nAW7E0YWyR"
      },
      "source": [
        "<img src=\"data:image/png;base64,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\"/>"
      ]
    },
    {
      "cell_type": "markdown",
      "metadata": {
        "id": "vxgzbSL0YWoi"
      },
      "source": [
        "<br>"
      ]
    },
    {
      "cell_type": "markdown",
      "metadata": {
        "id": "cqbfcqmkYVb_"
      },
      "source": [
        "#**Dealing With Various Data Types**"
      ]
    },
    {
      "cell_type": "markdown",
      "metadata": {
        "id": "aTtvDokWY3SB"
      },
      "source": [
        "In this tutorial, you will learn about different data types you can use in Python.\n",
        "\n"
      ]
    },
    {
      "cell_type": "markdown",
      "metadata": {
        "id": "k6HEuETUa-A3"
      },
      "source": [
        "##**Data types in Python**"
      ]
    },
    {
      "cell_type": "markdown",
      "metadata": {
        "id": "YDz3aNTibHGT"
      },
      "source": [
        "There are various data types in Python. We will consider some of the important regularly used types."
      ]
    },
    {
      "cell_type": "markdown",
      "metadata": {
        "id": "HZ0wN0jAbZBO"
      },
      "source": [
        "###**Python Numbers**\n",
        "\n",
        "The **Python Numbers** category consists of:\n",
        "1. Integers (***int***)\n",
        "2. Floating point numbers(***float***)\n",
        "3. Complex numbers(***complex***)\n",
        "4. String(**str**)\n",
        "5. List\n",
        "6. Tuple\n",
        "7. Set\n",
        "8. Dictionary\n",
        "\n"
      ]
    },
    {
      "cell_type": "markdown",
      "metadata": {
        "id": "Pnmtyyeap3Cg"
      },
      "source": [
        "##**Class Notes**"
      ]
    },
    {
      "cell_type": "markdown",
      "metadata": {
        "id": "_-Kilnhbi8p-"
      },
      "source": [
        "# **Integer**"
      ]
    },
    {
      "cell_type": "code",
      "metadata": {
        "id": "IKZKGVeXfU8Y"
      },
      "source": [
        "a= 10"
      ],
      "execution_count": null,
      "outputs": []
    },
    {
      "cell_type": "code",
      "metadata": {
        "colab": {
          "base_uri": "https://localhost:8080/"
        },
        "id": "aDSql99vfU4p",
        "outputId": "7f0efcec-7b71-432b-e980-be7515068a0b"
      },
      "source": [
        "type(a)"
      ],
      "execution_count": null,
      "outputs": [
        {
          "output_type": "execute_result",
          "data": {
            "text/plain": [
              "int"
            ]
          },
          "metadata": {
            "tags": []
          },
          "execution_count": 2
        }
      ]
    },
    {
      "cell_type": "code",
      "metadata": {
        "colab": {
          "base_uri": "https://localhost:8080/"
        },
        "id": "7dGRXxyJfU1V",
        "outputId": "da8fdf00-d5c9-48e3-83ba-476c69313d4e"
      },
      "source": [
        "type(10 + 20)"
      ],
      "execution_count": null,
      "outputs": [
        {
          "output_type": "execute_result",
          "data": {
            "text/plain": [
              "int"
            ]
          },
          "metadata": {
            "tags": []
          },
          "execution_count": 4
        }
      ]
    },
    {
      "cell_type": "markdown",
      "metadata": {
        "id": "98s_kRyPjYjG"
      },
      "source": [
        "#**Floting Point Numbers**"
      ]
    },
    {
      "cell_type": "code",
      "metadata": {
        "id": "awxhOqOOfUx9"
      },
      "source": [
        "b = 10.5"
      ],
      "execution_count": null,
      "outputs": []
    },
    {
      "cell_type": "code",
      "metadata": {
        "colab": {
          "base_uri": "https://localhost:8080/"
        },
        "id": "h5mFH8wIfUuT",
        "outputId": "cbb3517f-db40-4a58-bfb9-4cf61ef5b2d7"
      },
      "source": [
        "type(b)"
      ],
      "execution_count": null,
      "outputs": [
        {
          "output_type": "execute_result",
          "data": {
            "text/plain": [
              "float"
            ]
          },
          "metadata": {
            "tags": []
          },
          "execution_count": 6
        }
      ]
    },
    {
      "cell_type": "code",
      "metadata": {
        "colab": {
          "base_uri": "https://localhost:8080/"
        },
        "id": "XEKmuCkMfPIP",
        "outputId": "1e930303-c027-417c-df66-a9bf6a9a7cff"
      },
      "source": [
        "type(10.5 + 7)"
      ],
      "execution_count": null,
      "outputs": [
        {
          "output_type": "execute_result",
          "data": {
            "text/plain": [
              "float"
            ]
          },
          "metadata": {
            "tags": []
          },
          "execution_count": 8
        }
      ]
    },
    {
      "cell_type": "markdown",
      "metadata": {
        "id": "ZUnfE5S3jzWj"
      },
      "source": [
        "#**Complex Numbers**"
      ]
    },
    {
      "cell_type": "code",
      "metadata": {
        "id": "cHoxQSDcfPEM"
      },
      "source": [
        "c = 10 + 5j"
      ],
      "execution_count": null,
      "outputs": []
    },
    {
      "cell_type": "code",
      "metadata": {
        "colab": {
          "base_uri": "https://localhost:8080/"
        },
        "id": "1t1Bj0zDfPBE",
        "outputId": "3295cd28-aea3-4604-ea66-a8c1b1c9e065"
      },
      "source": [
        "type(c)"
      ],
      "execution_count": null,
      "outputs": [
        {
          "output_type": "execute_result",
          "data": {
            "text/plain": [
              "complex"
            ]
          },
          "metadata": {
            "tags": []
          },
          "execution_count": 10
        }
      ]
    },
    {
      "cell_type": "markdown",
      "metadata": {
        "id": "CJBRSDkMkHtA"
      },
      "source": [
        "#**String**"
      ]
    },
    {
      "cell_type": "code",
      "metadata": {
        "id": "_LJ66sG6fO99"
      },
      "source": [
        "d = \"mrbriit\""
      ],
      "execution_count": null,
      "outputs": []
    },
    {
      "cell_type": "code",
      "metadata": {
        "colab": {
          "base_uri": "https://localhost:8080/"
        },
        "id": "gUx_T1E6fO6n",
        "outputId": "1422d5d7-bb4b-4cb9-f05a-55bbd3d95351"
      },
      "source": [
        "type(d)"
      ],
      "execution_count": null,
      "outputs": [
        {
          "output_type": "execute_result",
          "data": {
            "text/plain": [
              "str"
            ]
          },
          "metadata": {
            "tags": []
          },
          "execution_count": 12
        }
      ]
    },
    {
      "cell_type": "code",
      "metadata": {
        "id": "QxP4kc3lfO3g"
      },
      "source": [
        "e = \"mrbriit\""
      ],
      "execution_count": null,
      "outputs": []
    },
    {
      "cell_type": "code",
      "metadata": {
        "id": "9KOf1VqwfO0N"
      },
      "source": [
        "f = 'we are learning python data types'"
      ],
      "execution_count": null,
      "outputs": []
    },
    {
      "cell_type": "code",
      "metadata": {
        "colab": {
          "base_uri": "https://localhost:8080/"
        },
        "id": "CDdLnHCVfOwZ",
        "outputId": "6e5d9ebf-8448-43af-8097-fd7cbe87f6e0"
      },
      "source": [
        "type(f)"
      ],
      "execution_count": null,
      "outputs": [
        {
          "output_type": "execute_result",
          "data": {
            "text/plain": [
              "str"
            ]
          },
          "metadata": {
            "tags": []
          },
          "execution_count": 16
        }
      ]
    },
    {
      "cell_type": "markdown",
      "metadata": {
        "id": "KcYsOzS1ksG8"
      },
      "source": [
        "#**List**"
      ]
    },
    {
      "cell_type": "code",
      "metadata": {
        "id": "1jHQKJwCfOtF"
      },
      "source": [
        "grades = [10,30,50,70,80,75.5,50.8,'mrbriit', 'simran', \"Ashutosh\"]"
      ],
      "execution_count": null,
      "outputs": []
    },
    {
      "cell_type": "code",
      "metadata": {
        "colab": {
          "base_uri": "https://localhost:8080/"
        },
        "id": "wr9RwRTAfOpt",
        "outputId": "08a98cdf-aa8c-4fb9-e595-5135d0f8af5c"
      },
      "source": [
        "type(grades)"
      ],
      "execution_count": null,
      "outputs": [
        {
          "output_type": "execute_result",
          "data": {
            "text/plain": [
              "list"
            ]
          },
          "metadata": {
            "tags": []
          },
          "execution_count": 20
        }
      ]
    },
    {
      "cell_type": "markdown",
      "metadata": {
        "id": "MPORfNqalTWv"
      },
      "source": [
        "#**Tuple**"
      ]
    },
    {
      "cell_type": "code",
      "metadata": {
        "id": "omEibMD0fOmy"
      },
      "source": [
        "tuple_items=(10,30,50,70,80,75.5,50.8,'mrbriit', 'simran', \"Ashutosh\")"
      ],
      "execution_count": null,
      "outputs": []
    },
    {
      "cell_type": "code",
      "metadata": {
        "colab": {
          "base_uri": "https://localhost:8080/"
        },
        "id": "3CE5B6chfOjM",
        "outputId": "a3682199-c011-46f7-a119-b0f6d62fa940"
      },
      "source": [
        "type(tuple_items)"
      ],
      "execution_count": null,
      "outputs": [
        {
          "output_type": "execute_result",
          "data": {
            "text/plain": [
              "tuple"
            ]
          },
          "metadata": {
            "tags": []
          },
          "execution_count": 22
        }
      ]
    },
    {
      "cell_type": "code",
      "metadata": {
        "id": "8h8H_hi1fOfL"
      },
      "source": [
        "grades[0]=100"
      ],
      "execution_count": null,
      "outputs": []
    },
    {
      "cell_type": "code",
      "metadata": {
        "colab": {
          "base_uri": "https://localhost:8080/"
        },
        "id": "DYi6ptgNfOb2",
        "outputId": "66df3b4d-0ae0-4db2-c74b-50c421bd5e67"
      },
      "source": [
        "grades"
      ],
      "execution_count": null,
      "outputs": [
        {
          "output_type": "execute_result",
          "data": {
            "text/plain": [
              "[100, 30, 50, 70, 80, 75.5, 50.8, 'mrbriit', 'simran', 'Ashutosh']"
            ]
          },
          "metadata": {
            "tags": []
          },
          "execution_count": 24
        }
      ]
    },
    {
      "cell_type": "code",
      "metadata": {
        "id": "xsbU_hZVfOY2"
      },
      "source": [
        "grades[7]='John'"
      ],
      "execution_count": null,
      "outputs": []
    },
    {
      "cell_type": "code",
      "metadata": {
        "colab": {
          "base_uri": "https://localhost:8080/"
        },
        "id": "qyNd2bLNfOUl",
        "outputId": "84b5513a-d311-4c5b-a0e9-e6839ab2519f"
      },
      "source": [
        "grades"
      ],
      "execution_count": null,
      "outputs": [
        {
          "output_type": "execute_result",
          "data": {
            "text/plain": [
              "[100, 30, 50, 70, 80, 75.5, 50.8, 'John', 'simran', 'Ashutosh']"
            ]
          },
          "metadata": {
            "tags": []
          },
          "execution_count": 26
        }
      ]
    },
    {
      "cell_type": "code",
      "metadata": {
        "colab": {
          "base_uri": "https://localhost:8080/"
        },
        "id": "QV9KkxDBfOP3",
        "outputId": "ad6713fd-2042-4575-9a47-97bca453613c"
      },
      "source": [
        "tuple_items"
      ],
      "execution_count": null,
      "outputs": [
        {
          "output_type": "execute_result",
          "data": {
            "text/plain": [
              "(10, 30, 50, 70, 80, 75.5, 50.8, 'mrbriit', 'simran', 'Ashutosh')"
            ]
          },
          "metadata": {
            "tags": []
          },
          "execution_count": 27
        }
      ]
    },
    {
      "cell_type": "code",
      "metadata": {
        "colab": {
          "base_uri": "https://localhost:8080/",
          "height": 164
        },
        "id": "gGwOcxHAfOBn",
        "outputId": "8c31d98c-4c60-4d9c-fb7c-38b67fb57136"
      },
      "source": [
        "tuple_items[9]='Mercy'"
      ],
      "execution_count": null,
      "outputs": [
        {
          "output_type": "error",
          "ename": "TypeError",
          "evalue": "ignored",
          "traceback": [
            "\u001b[0;31m---------------------------------------------------------------------------\u001b[0m",
            "\u001b[0;31mTypeError\u001b[0m                                 Traceback (most recent call last)",
            "\u001b[0;32m<ipython-input-28-04f9c1911024>\u001b[0m in \u001b[0;36m<module>\u001b[0;34m()\u001b[0m\n\u001b[0;32m----> 1\u001b[0;31m \u001b[0mtuple_items\u001b[0m\u001b[0;34m[\u001b[0m\u001b[0;36m9\u001b[0m\u001b[0;34m]\u001b[0m\u001b[0;34m=\u001b[0m\u001b[0;34m'Mercy'\u001b[0m\u001b[0;34m\u001b[0m\u001b[0;34m\u001b[0m\u001b[0m\n\u001b[0m",
            "\u001b[0;31mTypeError\u001b[0m: 'tuple' object does not support item assignment"
          ]
        }
      ]
    },
    {
      "cell_type": "markdown",
      "metadata": {
        "id": "furdZAZkm0VC"
      },
      "source": [
        "Tuple is **immutable** BUT lits is **mutable**"
      ]
    },
    {
      "cell_type": "markdown",
      "metadata": {
        "id": "xtmmgYnYnVqE"
      },
      "source": [
        "#**Set**"
      ]
    },
    {
      "cell_type": "markdown",
      "metadata": {
        "id": "hLzKf4PqnfxQ"
      },
      "source": [
        "an unordered collection of **unique** items"
      ]
    },
    {
      "cell_type": "code",
      "metadata": {
        "id": "_4dOww6ffN52"
      },
      "source": [
        " h = {1,2,3, 7,15,25,3.5}"
      ],
      "execution_count": null,
      "outputs": []
    },
    {
      "cell_type": "code",
      "metadata": {
        "colab": {
          "base_uri": "https://localhost:8080/"
        },
        "id": "jwcpgoLufNx6",
        "outputId": "7c976681-874f-4552-f374-cc0add3c1b28"
      },
      "source": [
        "type(h)"
      ],
      "execution_count": null,
      "outputs": [
        {
          "output_type": "execute_result",
          "data": {
            "text/plain": [
              "set"
            ]
          },
          "metadata": {
            "tags": []
          },
          "execution_count": 30
        }
      ]
    },
    {
      "cell_type": "markdown",
      "metadata": {
        "id": "YZwfrr3Bn_ks"
      },
      "source": [
        "#**Dictionay**"
      ]
    },
    {
      "cell_type": "markdown",
      "metadata": {
        "id": "n56YQhUkoHlq"
      },
      "source": [
        "An unordered collection of items: **Keys-Value Pair**"
      ]
    },
    {
      "cell_type": "code",
      "metadata": {
        "id": "vDrGLcEafNqW"
      },
      "source": [
        "dict = {'Name':'MrBriit','Favorite Fruits':'Apple','Color':'Blue'}"
      ],
      "execution_count": null,
      "outputs": []
    },
    {
      "cell_type": "code",
      "metadata": {
        "colab": {
          "base_uri": "https://localhost:8080/"
        },
        "id": "Fl991yT0fNmN",
        "outputId": "290a8e53-cb80-466b-80df-1dcca0f5f9fe"
      },
      "source": [
        "type(dict)"
      ],
      "execution_count": null,
      "outputs": [
        {
          "output_type": "execute_result",
          "data": {
            "text/plain": [
              "dict"
            ]
          },
          "metadata": {
            "tags": []
          },
          "execution_count": 32
        }
      ]
    },
    {
      "cell_type": "code",
      "metadata": {
        "colab": {
          "base_uri": "https://localhost:8080/",
          "height": 35
        },
        "id": "5V6HkL_XfNi9",
        "outputId": "42c1b85b-4495-40b8-8839-59c31909f202"
      },
      "source": [
        "dict['Color']"
      ],
      "execution_count": null,
      "outputs": [
        {
          "output_type": "execute_result",
          "data": {
            "application/vnd.google.colaboratory.intrinsic+json": {
              "type": "string"
            },
            "text/plain": [
              "'Blue'"
            ]
          },
          "metadata": {
            "tags": []
          },
          "execution_count": 34
        }
      ]
    },
    {
      "cell_type": "code",
      "metadata": {
        "colab": {
          "base_uri": "https://localhost:8080/",
          "height": 35
        },
        "id": "y1U0oarDfNez",
        "outputId": "3110b597-22eb-4fcc-9cc4-0fe52102eb00"
      },
      "source": [
        "dict['Name']"
      ],
      "execution_count": null,
      "outputs": [
        {
          "output_type": "execute_result",
          "data": {
            "application/vnd.google.colaboratory.intrinsic+json": {
              "type": "string"
            },
            "text/plain": [
              "'MrBriit'"
            ]
          },
          "metadata": {
            "tags": []
          },
          "execution_count": 35
        }
      ]
    },
    {
      "cell_type": "code",
      "metadata": {
        "colab": {
          "base_uri": "https://localhost:8080/",
          "height": 35
        },
        "id": "WP7dSY-pfNaz",
        "outputId": "40c44304-7258-45e5-836a-02e89d83e5b1"
      },
      "source": [
        "dict['Favorite Fruits']"
      ],
      "execution_count": null,
      "outputs": [
        {
          "output_type": "execute_result",
          "data": {
            "application/vnd.google.colaboratory.intrinsic+json": {
              "type": "string"
            },
            "text/plain": [
              "'Apple'"
            ]
          },
          "metadata": {
            "tags": []
          },
          "execution_count": 36
        }
      ]
    },
    {
      "cell_type": "code",
      "metadata": {
        "id": "5tucyA6OfMdU"
      },
      "source": [],
      "execution_count": null,
      "outputs": []
    },
    {
      "cell_type": "markdown",
      "metadata": {
        "id": "ZCWN8FzkqBsK"
      },
      "source": [
        "##**More Organised Notes(Same as above, you can skip it and go to \"Working With Python Data types\")**"
      ]
    },
    {
      "cell_type": "markdown",
      "metadata": {
        "id": "bwmaeckAcQfO"
      },
      "source": [
        "####**1. Integers(int)**"
      ]
    },
    {
      "cell_type": "code",
      "metadata": {
        "id": "352TzbUCYF4x"
      },
      "source": [
        "a=10"
      ],
      "execution_count": null,
      "outputs": []
    },
    {
      "cell_type": "markdown",
      "metadata": {
        "id": "MnCNxbjAcbGh"
      },
      "source": [
        "We can use the Python **type()** to check the data type."
      ]
    },
    {
      "cell_type": "code",
      "metadata": {
        "colab": {
          "base_uri": "https://localhost:8080/"
        },
        "id": "S5KqSB56caQC",
        "outputId": "eb306664-0852-444c-8bad-b895adf0c18e"
      },
      "source": [
        "type(a)"
      ],
      "execution_count": null,
      "outputs": [
        {
          "output_type": "execute_result",
          "data": {
            "text/plain": [
              "int"
            ]
          },
          "metadata": {
            "tags": []
          },
          "execution_count": 2
        }
      ]
    },
    {
      "cell_type": "markdown",
      "metadata": {
        "id": "D6mPfAhecoZ6"
      },
      "source": [
        "we can see from above that the variable **a** was assigned an ***integer value.***"
      ]
    },
    {
      "cell_type": "markdown",
      "metadata": {
        "id": "xEPlk-Xdc8wV"
      },
      "source": [
        "####**2. Floating point numbers(float)**"
      ]
    },
    {
      "cell_type": "code",
      "metadata": {
        "id": "xnSCYyvWclwh"
      },
      "source": [
        "b=10.75"
      ],
      "execution_count": null,
      "outputs": []
    },
    {
      "cell_type": "code",
      "metadata": {
        "colab": {
          "base_uri": "https://localhost:8080/"
        },
        "id": "Skk6im71dJmS",
        "outputId": "af954b2e-9c23-4360-8bdd-0952f0436b2d"
      },
      "source": [
        "type(b)"
      ],
      "execution_count": null,
      "outputs": [
        {
          "output_type": "execute_result",
          "data": {
            "text/plain": [
              "float"
            ]
          },
          "metadata": {
            "tags": []
          },
          "execution_count": 4
        }
      ]
    },
    {
      "cell_type": "markdown",
      "metadata": {
        "id": "Qy9pACBrdNvg"
      },
      "source": [
        "we can see from above that the variable **b** was assigned a ***floating point number.***"
      ]
    },
    {
      "cell_type": "markdown",
      "metadata": {
        "id": "k4A-RnL_dldj"
      },
      "source": [
        "####**3. Complex numbers(complex)**"
      ]
    },
    {
      "cell_type": "code",
      "metadata": {
        "id": "sO_E1rDxdLfM"
      },
      "source": [
        "c = 10+5j"
      ],
      "execution_count": null,
      "outputs": []
    },
    {
      "cell_type": "code",
      "metadata": {
        "colab": {
          "base_uri": "https://localhost:8080/"
        },
        "id": "BgTlPMjpd1G7",
        "outputId": "89fe019c-35fb-4e72-9d31-5912707cd9bd"
      },
      "source": [
        "type(c)"
      ],
      "execution_count": null,
      "outputs": [
        {
          "output_type": "execute_result",
          "data": {
            "text/plain": [
              "complex"
            ]
          },
          "metadata": {
            "tags": []
          },
          "execution_count": 6
        }
      ]
    },
    {
      "cell_type": "markdown",
      "metadata": {
        "id": "RWk8YbAud3oi"
      },
      "source": [
        "we can see from above that the variable **c** was assigned a ***complex number***."
      ]
    },
    {
      "cell_type": "markdown",
      "metadata": {
        "id": "-NnT6dqReYSK"
      },
      "source": [
        "<br>\n",
        "\n",
        "###**Python List**"
      ]
    },
    {
      "cell_type": "markdown",
      "metadata": {
        "id": "4xulF7lserCU"
      },
      "source": [
        "Python List is an ordered sequence of items. The items provided in python list do not need to be of the same type.Which means items of different data types can be included in a Python Lis. It is one of the most used datatype in Python and is very flexible.\n",
        "\n",
        "Declaring a list is pretty straight forward. Items separated by commas are enclosed within brackets [ ]."
      ]
    },
    {
      "cell_type": "code",
      "metadata": {
        "id": "kKsORmHwd2qq"
      },
      "source": [
        "d=[1,2,3,'MrBriit',0.233,'anything else']"
      ],
      "execution_count": null,
      "outputs": []
    },
    {
      "cell_type": "code",
      "metadata": {
        "colab": {
          "base_uri": "https://localhost:8080/"
        },
        "id": "zl9OQqKVfWra",
        "outputId": "a70cb0c0-2e29-4e6c-920a-23cdeea59295"
      },
      "source": [
        "type(d)"
      ],
      "execution_count": null,
      "outputs": [
        {
          "output_type": "execute_result",
          "data": {
            "text/plain": [
              "list"
            ]
          },
          "metadata": {
            "tags": []
          },
          "execution_count": 8
        }
      ]
    },
    {
      "cell_type": "markdown",
      "metadata": {
        "id": "ckxWyKGIfdyM"
      },
      "source": [
        "###**Python Tuple**"
      ]
    },
    {
      "cell_type": "markdown",
      "metadata": {
        "id": "sgGLBkA_fso5"
      },
      "source": [
        "Tuple is an ordered sequence of items similar to a list as discussed above. The only difference is that tuples are immutable. That's, once created, cannot be modified.\n",
        "\n",
        "It is defined within parentheses () where items are separated by commas."
      ]
    },
    {
      "cell_type": "code",
      "metadata": {
        "id": "YEKLwMpGfYvG"
      },
      "source": [
        "e=(1,2,3,'MrBriit',0.233,'anything else')"
      ],
      "execution_count": null,
      "outputs": []
    },
    {
      "cell_type": "code",
      "metadata": {
        "colab": {
          "base_uri": "https://localhost:8080/"
        },
        "id": "fwOGa-BRgGOv",
        "outputId": "d5fd5c66-dc83-47d6-c880-754c3e0441c4"
      },
      "source": [
        "type(e)"
      ],
      "execution_count": null,
      "outputs": [
        {
          "output_type": "execute_result",
          "data": {
            "text/plain": [
              "tuple"
            ]
          },
          "metadata": {
            "tags": []
          },
          "execution_count": 10
        }
      ]
    },
    {
      "cell_type": "code",
      "metadata": {
        "id": "YTKpdquXgHgK"
      },
      "source": [
        "#let's change some items in List d\n",
        "\n",
        "d[3]='James'"
      ],
      "execution_count": null,
      "outputs": []
    },
    {
      "cell_type": "code",
      "metadata": {
        "colab": {
          "base_uri": "https://localhost:8080/"
        },
        "id": "L4vvIPCBgWRW",
        "outputId": "14a37b15-5d3a-40ff-89d9-489b2c29045a"
      },
      "source": [
        "d"
      ],
      "execution_count": null,
      "outputs": [
        {
          "output_type": "execute_result",
          "data": {
            "text/plain": [
              "[1, 2, 3, 'James', 0.233, 'anything else']"
            ]
          },
          "metadata": {
            "tags": []
          },
          "execution_count": 12
        }
      ]
    },
    {
      "cell_type": "code",
      "metadata": {
        "colab": {
          "base_uri": "https://localhost:8080/",
          "height": 198
        },
        "id": "KnjPazc-gYHU",
        "outputId": "645cca4e-8208-413c-c5ce-4d43b2b9ab2a"
      },
      "source": [
        "#let's change an item in Tuple e\n",
        "\n",
        "e[3]='Akash'"
      ],
      "execution_count": null,
      "outputs": [
        {
          "output_type": "error",
          "ename": "TypeError",
          "evalue": "ignored",
          "traceback": [
            "\u001b[0;31m---------------------------------------------------------------------------\u001b[0m",
            "\u001b[0;31mTypeError\u001b[0m                                 Traceback (most recent call last)",
            "\u001b[0;32m<ipython-input-13-0b71444cdc68>\u001b[0m in \u001b[0;36m<module>\u001b[0;34m()\u001b[0m\n\u001b[1;32m      1\u001b[0m \u001b[0;31m#let's change an item in Tuple e\u001b[0m\u001b[0;34m\u001b[0m\u001b[0;34m\u001b[0m\u001b[0;34m\u001b[0m\u001b[0m\n\u001b[1;32m      2\u001b[0m \u001b[0;34m\u001b[0m\u001b[0m\n\u001b[0;32m----> 3\u001b[0;31m \u001b[0me\u001b[0m\u001b[0;34m[\u001b[0m\u001b[0;36m3\u001b[0m\u001b[0;34m]\u001b[0m\u001b[0;34m=\u001b[0m\u001b[0;34m'Akash'\u001b[0m\u001b[0;34m\u001b[0m\u001b[0;34m\u001b[0m\u001b[0m\n\u001b[0m",
            "\u001b[0;31mTypeError\u001b[0m: 'tuple' object does not support item assignment"
          ]
        }
      ]
    },
    {
      "cell_type": "markdown",
      "metadata": {
        "id": "DIdA6wZ_gpf3"
      },
      "source": [
        "oops! we got an error. We cannot change the items in a Tuple"
      ]
    },
    {
      "cell_type": "markdown",
      "metadata": {
        "id": "dFpUUGW2g-m9"
      },
      "source": [
        "###**Python Strings**(str)"
      ]
    },
    {
      "cell_type": "markdown",
      "metadata": {
        "id": "IhJz6Sc5hKj7"
      },
      "source": [
        "String is sequence of Unicode characters. We can use single quotes or double quotes to represent strings. Multi-line strings can be denoted using triple quotes, **' ' '** or **\" \" \"**."
      ]
    },
    {
      "cell_type": "code",
      "metadata": {
        "id": "zWoVv0KggmFf"
      },
      "source": [
        "f='mrbriit'"
      ],
      "execution_count": null,
      "outputs": []
    },
    {
      "cell_type": "code",
      "metadata": {
        "colab": {
          "base_uri": "https://localhost:8080/"
        },
        "id": "lMizjbughZNO",
        "outputId": "caa8d701-94a7-4ebe-d2d3-440ea9ce3579"
      },
      "source": [
        "type(f)"
      ],
      "execution_count": null,
      "outputs": [
        {
          "output_type": "execute_result",
          "data": {
            "text/plain": [
              "str"
            ]
          },
          "metadata": {
            "tags": []
          },
          "execution_count": 15
        }
      ]
    },
    {
      "cell_type": "code",
      "metadata": {
        "id": "B0Sdaa7Ghaq9"
      },
      "source": [
        "g=\"August\""
      ],
      "execution_count": null,
      "outputs": []
    },
    {
      "cell_type": "code",
      "metadata": {
        "colab": {
          "base_uri": "https://localhost:8080/"
        },
        "id": "4CfQhT4Chmyn",
        "outputId": "5b0dbfc9-5ff2-4f6c-90f9-127059d0b0c1"
      },
      "source": [
        "type(g)"
      ],
      "execution_count": null,
      "outputs": [
        {
          "output_type": "execute_result",
          "data": {
            "text/plain": [
              "str"
            ]
          },
          "metadata": {
            "tags": []
          },
          "execution_count": 17
        }
      ]
    },
    {
      "cell_type": "markdown",
      "metadata": {
        "id": "FaQyby8ShuyY"
      },
      "source": [
        "###**Python Set**\n",
        "\n",
        "Set is an unordered collection of unique items. Set is defined by values separated by comma inside braces { }."
      ]
    },
    {
      "cell_type": "code",
      "metadata": {
        "id": "DQnWW5W4hn-F"
      },
      "source": [
        "h={1,2,3,15,0.5,7}"
      ],
      "execution_count": null,
      "outputs": []
    },
    {
      "cell_type": "code",
      "metadata": {
        "colab": {
          "base_uri": "https://localhost:8080/"
        },
        "id": "2MJuzJi5iIaR",
        "outputId": "09bb04f3-16be-4e4c-d6d0-cded06e58035"
      },
      "source": [
        "type(h)"
      ],
      "execution_count": null,
      "outputs": [
        {
          "output_type": "execute_result",
          "data": {
            "text/plain": [
              "set"
            ]
          },
          "metadata": {
            "tags": []
          },
          "execution_count": 19
        }
      ]
    },
    {
      "cell_type": "markdown",
      "metadata": {
        "id": "5tCnoT9GiN_n"
      },
      "source": [
        "###**Python Dictionary**"
      ]
    },
    {
      "cell_type": "markdown",
      "metadata": {
        "id": "lus9OK5oic9t"
      },
      "source": [
        "Dictionary is an unordered collection of key-value pairs.\n",
        "\n",
        "Mostly used when dealing with huge amounts of data. Dictionaries are optimized for retrieving data. We must know the key to retrieve the value.\n",
        "\n",
        "In Python, dictionaries are defined within braces {} with each item being a pair in the form **key:value**.\n",
        "\n",
        "Key and value can be of any type."
      ]
    },
    {
      "cell_type": "code",
      "metadata": {
        "id": "DN3gJ3cKiKHz"
      },
      "source": [
        "dict={'Name':'MrBriit','Color':'Blue','Shoe Size':43}"
      ],
      "execution_count": null,
      "outputs": []
    },
    {
      "cell_type": "code",
      "metadata": {
        "colab": {
          "base_uri": "https://localhost:8080/"
        },
        "id": "Z3Jv-TqqjLpm",
        "outputId": "3428d06d-7c4b-4cc3-a214-348b8abacdc2"
      },
      "source": [
        "type(dict)"
      ],
      "execution_count": null,
      "outputs": [
        {
          "output_type": "execute_result",
          "data": {
            "text/plain": [
              "dict"
            ]
          },
          "metadata": {
            "tags": []
          },
          "execution_count": 23
        }
      ]
    },
    {
      "cell_type": "code",
      "metadata": {
        "colab": {
          "base_uri": "https://localhost:8080/",
          "height": 35
        },
        "id": "ScSz071IjYJ2",
        "outputId": "cbdc54f5-ad7d-4ccf-8884-8d7c1a22a7ff"
      },
      "source": [
        "dict['Name']"
      ],
      "execution_count": null,
      "outputs": [
        {
          "output_type": "execute_result",
          "data": {
            "application/vnd.google.colaboratory.intrinsic+json": {
              "type": "string"
            },
            "text/plain": [
              "'MrBriit'"
            ]
          },
          "metadata": {
            "tags": []
          },
          "execution_count": 25
        }
      ]
    },
    {
      "cell_type": "code",
      "metadata": {
        "colab": {
          "base_uri": "https://localhost:8080/"
        },
        "id": "bnC-a_s8jUTc",
        "outputId": "6ddb5a91-18dc-47ee-e8a4-f7f8549ef8e7"
      },
      "source": [
        "dict['Shoe Size']"
      ],
      "execution_count": null,
      "outputs": [
        {
          "output_type": "execute_result",
          "data": {
            "text/plain": [
              "43"
            ]
          },
          "metadata": {
            "tags": []
          },
          "execution_count": 24
        }
      ]
    },
    {
      "cell_type": "code",
      "metadata": {
        "colab": {
          "base_uri": "https://localhost:8080/",
          "height": 35
        },
        "id": "TtBDEMBujbpz",
        "outputId": "2f0196da-8e95-43b8-962b-fb9060bc3ec0"
      },
      "source": [
        "dict['Color']"
      ],
      "execution_count": null,
      "outputs": [
        {
          "output_type": "execute_result",
          "data": {
            "application/vnd.google.colaboratory.intrinsic+json": {
              "type": "string"
            },
            "text/plain": [
              "'Blue'"
            ]
          },
          "metadata": {
            "tags": []
          },
          "execution_count": 27
        }
      ]
    },
    {
      "cell_type": "markdown",
      "metadata": {
        "id": "2IUA1LihnQ_Z"
      },
      "source": [
        "<br>\n",
        "\n",
        "<br>"
      ]
    },
    {
      "cell_type": "markdown",
      "metadata": {
        "id": "42my9dFfnT3m"
      },
      "source": [
        "#**Working With Python Data types**"
      ]
    },
    {
      "cell_type": "markdown",
      "metadata": {
        "id": "w8fx9xfmGPWq"
      },
      "source": [
        "##*NB: For a step-by-step video explanation to these concept, [refer here](https://datamentor.ai)*"
      ]
    },
    {
      "cell_type": "markdown",
      "metadata": {
        "id": "gEDBMFlhndis"
      },
      "source": [
        "**First thing first**\n",
        "\n",
        "Difference between Numeric and Discrete values.\n",
        "\n",
        "Data can be Descriptive (like \"high\" or \"fast\") or Numerical (numbers).\n",
        "\n",
        "**Numerical Data** can be Discrete or Continuous:\n",
        "1. Discrete data is ***counted***,\n",
        "2. Continuous data is ***measured***.\n",
        "\n",
        "\n",
        "***Discrete Data*** can only take certain values.\n",
        "\n",
        "E.g. the number of students in a class.\n",
        "\n",
        "We can't have half a student!\n",
        "\n",
        "\n",
        "***Continuous Data*** can take any value (within a range, say 0-7 feet)\n",
        "\n",
        "Examples:\n",
        "\n",
        "A person's height: could be any value\n"
      ]
    },
    {
      "cell_type": "markdown",
      "metadata": {
        "id": "yPe5jJIGqjfp"
      },
      "source": [
        "<br>\n",
        "\n",
        "###**Feature Engineering on Numeric Data**"
      ]
    },
    {
      "cell_type": "markdown",
      "metadata": {
        "id": "_61LWf4Sq9oJ"
      },
      "source": [
        "Here, by numeric data, we mean continuous data and not discrete data which is typically represented as categorical data.\n",
        "\n",
        "Integers and floats are the most common and widely used numeric data types for continuous numeric data. You can directly feed numeric data into machine learning algorithms to build models, however, it is advisable for you to engineer the features properly before continuing to build your model, and these feature engineering typically differs and are done according to the scenario, problem and domain. Hence domain knowledge is mostly important in these kind of cases.\n",
        "\n",
        "The goal of feature engineering for a numeric variable is to find a better way(greater validity, better predictive power, and improved interpretation) of representing the numeric variable in the model."
      ]
    },
    {
      "cell_type": "markdown",
      "metadata": {
        "id": "6qPW59M3uhv5"
      },
      "source": [
        "Let's perform some *feature engineering on numeric data* using the various datasets as shown below"
      ]
    },
    {
      "cell_type": "code",
      "metadata": {
        "id": "fglk7vUzjjn9"
      },
      "source": [
        "#import the required libraries\n",
        "\n",
        "import pandas as pd\n",
        "import matplotlib.pyplot as plt\n",
        "import numpy as np\n",
        "# import scipy.stats as spstats\n",
        "# %matplotlib inline"
      ],
      "execution_count": null,
      "outputs": []
    },
    {
      "cell_type": "code",
      "metadata": {
        "id": "ANzxRMnGvccd"
      },
      "source": [
        "#load the dataset\n",
        "\n",
        "df = pd.read_csv('/content/Pokemon.csv', encoding='utf-8')"
      ],
      "execution_count": null,
      "outputs": []
    },
    {
      "cell_type": "code",
      "metadata": {
        "colab": {
          "base_uri": "https://localhost:8080/",
          "height": 204
        },
        "id": "Vz2wofoiv3DR",
        "outputId": "a8290cb5-27b0-4ebb-f9fe-f68d1b5dddf6"
      },
      "source": [
        "df.head() #let's see the firt 5 rows or records or observations"
      ],
      "execution_count": null,
      "outputs": [
        {
          "output_type": "execute_result",
          "data": {
            "text/html": [
              "<div>\n",
              "<style scoped>\n",
              "    .dataframe tbody tr th:only-of-type {\n",
              "        vertical-align: middle;\n",
              "    }\n",
              "\n",
              "    .dataframe tbody tr th {\n",
              "        vertical-align: top;\n",
              "    }\n",
              "\n",
              "    .dataframe thead th {\n",
              "        text-align: right;\n",
              "    }\n",
              "</style>\n",
              "<table border=\"1\" class=\"dataframe\">\n",
              "  <thead>\n",
              "    <tr style=\"text-align: right;\">\n",
              "      <th></th>\n",
              "      <th>#</th>\n",
              "      <th>Name</th>\n",
              "      <th>Type 1</th>\n",
              "      <th>Type 2</th>\n",
              "      <th>Total</th>\n",
              "      <th>HP</th>\n",
              "      <th>Attack</th>\n",
              "      <th>Defense</th>\n",
              "      <th>Sp. Atk</th>\n",
              "      <th>Sp. Def</th>\n",
              "      <th>Speed</th>\n",
              "      <th>Generation</th>\n",
              "      <th>Legendary</th>\n",
              "    </tr>\n",
              "  </thead>\n",
              "  <tbody>\n",
              "    <tr>\n",
              "      <th>0</th>\n",
              "      <td>1</td>\n",
              "      <td>Bulbasaur</td>\n",
              "      <td>Grass</td>\n",
              "      <td>Poison</td>\n",
              "      <td>318</td>\n",
              "      <td>45</td>\n",
              "      <td>49</td>\n",
              "      <td>49</td>\n",
              "      <td>65</td>\n",
              "      <td>65</td>\n",
              "      <td>45</td>\n",
              "      <td>1</td>\n",
              "      <td>False</td>\n",
              "    </tr>\n",
              "    <tr>\n",
              "      <th>1</th>\n",
              "      <td>2</td>\n",
              "      <td>Ivysaur</td>\n",
              "      <td>Grass</td>\n",
              "      <td>Poison</td>\n",
              "      <td>405</td>\n",
              "      <td>60</td>\n",
              "      <td>62</td>\n",
              "      <td>63</td>\n",
              "      <td>80</td>\n",
              "      <td>80</td>\n",
              "      <td>60</td>\n",
              "      <td>1</td>\n",
              "      <td>False</td>\n",
              "    </tr>\n",
              "    <tr>\n",
              "      <th>2</th>\n",
              "      <td>3</td>\n",
              "      <td>Venusaur</td>\n",
              "      <td>Grass</td>\n",
              "      <td>Poison</td>\n",
              "      <td>525</td>\n",
              "      <td>80</td>\n",
              "      <td>82</td>\n",
              "      <td>83</td>\n",
              "      <td>100</td>\n",
              "      <td>100</td>\n",
              "      <td>80</td>\n",
              "      <td>1</td>\n",
              "      <td>False</td>\n",
              "    </tr>\n",
              "    <tr>\n",
              "      <th>3</th>\n",
              "      <td>3</td>\n",
              "      <td>VenusaurMega Venusaur</td>\n",
              "      <td>Grass</td>\n",
              "      <td>Poison</td>\n",
              "      <td>625</td>\n",
              "      <td>80</td>\n",
              "      <td>100</td>\n",
              "      <td>123</td>\n",
              "      <td>122</td>\n",
              "      <td>120</td>\n",
              "      <td>80</td>\n",
              "      <td>1</td>\n",
              "      <td>False</td>\n",
              "    </tr>\n",
              "    <tr>\n",
              "      <th>4</th>\n",
              "      <td>4</td>\n",
              "      <td>Charmander</td>\n",
              "      <td>Fire</td>\n",
              "      <td>NaN</td>\n",
              "      <td>309</td>\n",
              "      <td>39</td>\n",
              "      <td>52</td>\n",
              "      <td>43</td>\n",
              "      <td>60</td>\n",
              "      <td>50</td>\n",
              "      <td>65</td>\n",
              "      <td>1</td>\n",
              "      <td>False</td>\n",
              "    </tr>\n",
              "  </tbody>\n",
              "</table>\n",
              "</div>"
            ],
            "text/plain": [
              "   #                   Name Type 1  ... Speed  Generation  Legendary\n",
              "0  1              Bulbasaur  Grass  ...    45           1      False\n",
              "1  2                Ivysaur  Grass  ...    60           1      False\n",
              "2  3               Venusaur  Grass  ...    80           1      False\n",
              "3  3  VenusaurMega Venusaur  Grass  ...    80           1      False\n",
              "4  4             Charmander   Fire  ...    65           1      False\n",
              "\n",
              "[5 rows x 13 columns]"
            ]
          },
          "metadata": {
            "tags": []
          },
          "execution_count": 49
        }
      ]
    },
    {
      "cell_type": "code",
      "metadata": {
        "colab": {
          "base_uri": "https://localhost:8080/"
        },
        "id": "9nKH7o7Mv7tr",
        "outputId": "bb84a79a-14c5-44ed-bee1-aef2efad9bda"
      },
      "source": [
        "df.shape"
      ],
      "execution_count": null,
      "outputs": [
        {
          "output_type": "execute_result",
          "data": {
            "text/plain": [
              "(800, 13)"
            ]
          },
          "metadata": {
            "tags": []
          },
          "execution_count": 50
        }
      ]
    },
    {
      "cell_type": "markdown",
      "metadata": {
        "id": "bjRQnPndwJKh"
      },
      "source": [
        "Our datset contains **800 records or observations** and **13 features or variables**"
      ]
    },
    {
      "cell_type": "markdown",
      "metadata": {
        "id": "jeQ2cblawrFv"
      },
      "source": [
        "<br>\n",
        "\n",
        "We can see from the above dataframe that several attributes represent numeric raw values which can be used directly to perform analysis on or build a machine learning model.\n",
        "\n",
        "For example:"
      ]
    },
    {
      "cell_type": "code",
      "metadata": {
        "colab": {
          "base_uri": "https://localhost:8080/",
          "height": 419
        },
        "id": "LdSZ4vPJwHZx",
        "outputId": "34819547-4e57-4b67-c1c8-18f980eb513a"
      },
      "source": [
        "df[['HP',\t'Attack',\t'Defense',\t'Sp. Atk',\t'Sp. Def',\t'Speed'\t]]"
      ],
      "execution_count": null,
      "outputs": [
        {
          "output_type": "execute_result",
          "data": {
            "text/html": [
              "<div>\n",
              "<style scoped>\n",
              "    .dataframe tbody tr th:only-of-type {\n",
              "        vertical-align: middle;\n",
              "    }\n",
              "\n",
              "    .dataframe tbody tr th {\n",
              "        vertical-align: top;\n",
              "    }\n",
              "\n",
              "    .dataframe thead th {\n",
              "        text-align: right;\n",
              "    }\n",
              "</style>\n",
              "<table border=\"1\" class=\"dataframe\">\n",
              "  <thead>\n",
              "    <tr style=\"text-align: right;\">\n",
              "      <th></th>\n",
              "      <th>HP</th>\n",
              "      <th>Attack</th>\n",
              "      <th>Defense</th>\n",
              "      <th>Sp. Atk</th>\n",
              "      <th>Sp. Def</th>\n",
              "      <th>Speed</th>\n",
              "    </tr>\n",
              "  </thead>\n",
              "  <tbody>\n",
              "    <tr>\n",
              "      <th>0</th>\n",
              "      <td>45</td>\n",
              "      <td>49</td>\n",
              "      <td>49</td>\n",
              "      <td>65</td>\n",
              "      <td>65</td>\n",
              "      <td>45</td>\n",
              "    </tr>\n",
              "    <tr>\n",
              "      <th>1</th>\n",
              "      <td>60</td>\n",
              "      <td>62</td>\n",
              "      <td>63</td>\n",
              "      <td>80</td>\n",
              "      <td>80</td>\n",
              "      <td>60</td>\n",
              "    </tr>\n",
              "    <tr>\n",
              "      <th>2</th>\n",
              "      <td>80</td>\n",
              "      <td>82</td>\n",
              "      <td>83</td>\n",
              "      <td>100</td>\n",
              "      <td>100</td>\n",
              "      <td>80</td>\n",
              "    </tr>\n",
              "    <tr>\n",
              "      <th>3</th>\n",
              "      <td>80</td>\n",
              "      <td>100</td>\n",
              "      <td>123</td>\n",
              "      <td>122</td>\n",
              "      <td>120</td>\n",
              "      <td>80</td>\n",
              "    </tr>\n",
              "    <tr>\n",
              "      <th>4</th>\n",
              "      <td>39</td>\n",
              "      <td>52</td>\n",
              "      <td>43</td>\n",
              "      <td>60</td>\n",
              "      <td>50</td>\n",
              "      <td>65</td>\n",
              "    </tr>\n",
              "    <tr>\n",
              "      <th>...</th>\n",
              "      <td>...</td>\n",
              "      <td>...</td>\n",
              "      <td>...</td>\n",
              "      <td>...</td>\n",
              "      <td>...</td>\n",
              "      <td>...</td>\n",
              "    </tr>\n",
              "    <tr>\n",
              "      <th>795</th>\n",
              "      <td>50</td>\n",
              "      <td>100</td>\n",
              "      <td>150</td>\n",
              "      <td>100</td>\n",
              "      <td>150</td>\n",
              "      <td>50</td>\n",
              "    </tr>\n",
              "    <tr>\n",
              "      <th>796</th>\n",
              "      <td>50</td>\n",
              "      <td>160</td>\n",
              "      <td>110</td>\n",
              "      <td>160</td>\n",
              "      <td>110</td>\n",
              "      <td>110</td>\n",
              "    </tr>\n",
              "    <tr>\n",
              "      <th>797</th>\n",
              "      <td>80</td>\n",
              "      <td>110</td>\n",
              "      <td>60</td>\n",
              "      <td>150</td>\n",
              "      <td>130</td>\n",
              "      <td>70</td>\n",
              "    </tr>\n",
              "    <tr>\n",
              "      <th>798</th>\n",
              "      <td>80</td>\n",
              "      <td>160</td>\n",
              "      <td>60</td>\n",
              "      <td>170</td>\n",
              "      <td>130</td>\n",
              "      <td>80</td>\n",
              "    </tr>\n",
              "    <tr>\n",
              "      <th>799</th>\n",
              "      <td>80</td>\n",
              "      <td>110</td>\n",
              "      <td>120</td>\n",
              "      <td>130</td>\n",
              "      <td>90</td>\n",
              "      <td>70</td>\n",
              "    </tr>\n",
              "  </tbody>\n",
              "</table>\n",
              "<p>800 rows × 6 columns</p>\n",
              "</div>"
            ],
            "text/plain": [
              "     HP  Attack  Defense  Sp. Atk  Sp. Def  Speed\n",
              "0    45      49       49       65       65     45\n",
              "1    60      62       63       80       80     60\n",
              "2    80      82       83      100      100     80\n",
              "3    80     100      123      122      120     80\n",
              "4    39      52       43       60       50     65\n",
              "..   ..     ...      ...      ...      ...    ...\n",
              "795  50     100      150      100      150     50\n",
              "796  50     160      110      160      110    110\n",
              "797  80     110       60      150      130     70\n",
              "798  80     160       60      170      130     80\n",
              "799  80     110      120      130       90     70\n",
              "\n",
              "[800 rows x 6 columns]"
            ]
          },
          "metadata": {
            "tags": []
          },
          "execution_count": 38
        }
      ]
    },
    {
      "cell_type": "code",
      "metadata": {
        "colab": {
          "base_uri": "https://localhost:8080/",
          "height": 328
        },
        "id": "5ZI2SWsbIBHh",
        "outputId": "ae82dc39-67d2-47e8-b8f9-26dddb65dff1"
      },
      "source": [
        "df.describe().T"
      ],
      "execution_count": null,
      "outputs": [
        {
          "output_type": "execute_result",
          "data": {
            "text/html": [
              "<div>\n",
              "<style scoped>\n",
              "    .dataframe tbody tr th:only-of-type {\n",
              "        vertical-align: middle;\n",
              "    }\n",
              "\n",
              "    .dataframe tbody tr th {\n",
              "        vertical-align: top;\n",
              "    }\n",
              "\n",
              "    .dataframe thead th {\n",
              "        text-align: right;\n",
              "    }\n",
              "</style>\n",
              "<table border=\"1\" class=\"dataframe\">\n",
              "  <thead>\n",
              "    <tr style=\"text-align: right;\">\n",
              "      <th></th>\n",
              "      <th>count</th>\n",
              "      <th>mean</th>\n",
              "      <th>std</th>\n",
              "      <th>min</th>\n",
              "      <th>25%</th>\n",
              "      <th>50%</th>\n",
              "      <th>75%</th>\n",
              "      <th>max</th>\n",
              "    </tr>\n",
              "  </thead>\n",
              "  <tbody>\n",
              "    <tr>\n",
              "      <th>#</th>\n",
              "      <td>800.0</td>\n",
              "      <td>362.81375</td>\n",
              "      <td>208.343798</td>\n",
              "      <td>1.0</td>\n",
              "      <td>184.75</td>\n",
              "      <td>364.5</td>\n",
              "      <td>539.25</td>\n",
              "      <td>721.0</td>\n",
              "    </tr>\n",
              "    <tr>\n",
              "      <th>Total</th>\n",
              "      <td>800.0</td>\n",
              "      <td>435.10250</td>\n",
              "      <td>119.963040</td>\n",
              "      <td>180.0</td>\n",
              "      <td>330.00</td>\n",
              "      <td>450.0</td>\n",
              "      <td>515.00</td>\n",
              "      <td>780.0</td>\n",
              "    </tr>\n",
              "    <tr>\n",
              "      <th>HP</th>\n",
              "      <td>800.0</td>\n",
              "      <td>69.25875</td>\n",
              "      <td>25.534669</td>\n",
              "      <td>1.0</td>\n",
              "      <td>50.00</td>\n",
              "      <td>65.0</td>\n",
              "      <td>80.00</td>\n",
              "      <td>255.0</td>\n",
              "    </tr>\n",
              "    <tr>\n",
              "      <th>Attack</th>\n",
              "      <td>800.0</td>\n",
              "      <td>79.00125</td>\n",
              "      <td>32.457366</td>\n",
              "      <td>5.0</td>\n",
              "      <td>55.00</td>\n",
              "      <td>75.0</td>\n",
              "      <td>100.00</td>\n",
              "      <td>190.0</td>\n",
              "    </tr>\n",
              "    <tr>\n",
              "      <th>Defense</th>\n",
              "      <td>800.0</td>\n",
              "      <td>73.84250</td>\n",
              "      <td>31.183501</td>\n",
              "      <td>5.0</td>\n",
              "      <td>50.00</td>\n",
              "      <td>70.0</td>\n",
              "      <td>90.00</td>\n",
              "      <td>230.0</td>\n",
              "    </tr>\n",
              "    <tr>\n",
              "      <th>Sp. Atk</th>\n",
              "      <td>800.0</td>\n",
              "      <td>72.82000</td>\n",
              "      <td>32.722294</td>\n",
              "      <td>10.0</td>\n",
              "      <td>49.75</td>\n",
              "      <td>65.0</td>\n",
              "      <td>95.00</td>\n",
              "      <td>194.0</td>\n",
              "    </tr>\n",
              "    <tr>\n",
              "      <th>Sp. Def</th>\n",
              "      <td>800.0</td>\n",
              "      <td>71.90250</td>\n",
              "      <td>27.828916</td>\n",
              "      <td>20.0</td>\n",
              "      <td>50.00</td>\n",
              "      <td>70.0</td>\n",
              "      <td>90.00</td>\n",
              "      <td>230.0</td>\n",
              "    </tr>\n",
              "    <tr>\n",
              "      <th>Speed</th>\n",
              "      <td>800.0</td>\n",
              "      <td>68.27750</td>\n",
              "      <td>29.060474</td>\n",
              "      <td>5.0</td>\n",
              "      <td>45.00</td>\n",
              "      <td>65.0</td>\n",
              "      <td>90.00</td>\n",
              "      <td>180.0</td>\n",
              "    </tr>\n",
              "    <tr>\n",
              "      <th>Generation</th>\n",
              "      <td>800.0</td>\n",
              "      <td>3.32375</td>\n",
              "      <td>1.661290</td>\n",
              "      <td>1.0</td>\n",
              "      <td>2.00</td>\n",
              "      <td>3.0</td>\n",
              "      <td>5.00</td>\n",
              "      <td>6.0</td>\n",
              "    </tr>\n",
              "  </tbody>\n",
              "</table>\n",
              "</div>"
            ],
            "text/plain": [
              "            count       mean         std    min     25%    50%     75%    max\n",
              "#           800.0  362.81375  208.343798    1.0  184.75  364.5  539.25  721.0\n",
              "Total       800.0  435.10250  119.963040  180.0  330.00  450.0  515.00  780.0\n",
              "HP          800.0   69.25875   25.534669    1.0   50.00   65.0   80.00  255.0\n",
              "Attack      800.0   79.00125   32.457366    5.0   55.00   75.0  100.00  190.0\n",
              "Defense     800.0   73.84250   31.183501    5.0   50.00   70.0   90.00  230.0\n",
              "Sp. Atk     800.0   72.82000   32.722294   10.0   49.75   65.0   95.00  194.0\n",
              "Sp. Def     800.0   71.90250   27.828916   20.0   50.00   70.0   90.00  230.0\n",
              "Speed       800.0   68.27750   29.060474    5.0   45.00   65.0   90.00  180.0\n",
              "Generation  800.0    3.32375    1.661290    1.0    2.00    3.0    5.00    6.0"
            ]
          },
          "metadata": {
            "tags": []
          },
          "execution_count": 47
        }
      ]
    },
    {
      "cell_type": "markdown",
      "metadata": {
        "id": "bTgMhMzqFHfq"
      },
      "source": [
        "####**Rounding**"
      ]
    },
    {
      "cell_type": "markdown",
      "metadata": {
        "id": "PO72hf96GcJG"
      },
      "source": [
        "."
      ]
    },
    {
      "cell_type": "markdown",
      "metadata": {
        "id": "EthIw9IzFnIn"
      },
      "source": [
        "In most of the cases, when dealing with *continuous numerical values*, you might want cut off the many decimal points and *round* your values on a scale of **1-10** or **1-100**.\n",
        "\n",
        "Let's see how we will do that below."
      ]
    },
    {
      "cell_type": "code",
      "metadata": {
        "id": "CuEH1z6-xjwU"
      },
      "source": [
        "item_df = pd.read_csv('/content/item_popularity.txt', encoding='utf-8')"
      ],
      "execution_count": null,
      "outputs": []
    },
    {
      "cell_type": "code",
      "metadata": {
        "colab": {
          "base_uri": "https://localhost:8080/",
          "height": 204
        },
        "id": "-22SZZhNA4_4",
        "outputId": "1495ab85-92fa-4561-9e5f-99850b43a299"
      },
      "source": [
        "item_df.head()"
      ],
      "execution_count": null,
      "outputs": [
        {
          "output_type": "execute_result",
          "data": {
            "text/html": [
              "<div>\n",
              "<style scoped>\n",
              "    .dataframe tbody tr th:only-of-type {\n",
              "        vertical-align: middle;\n",
              "    }\n",
              "\n",
              "    .dataframe tbody tr th {\n",
              "        vertical-align: top;\n",
              "    }\n",
              "\n",
              "    .dataframe thead th {\n",
              "        text-align: right;\n",
              "    }\n",
              "</style>\n",
              "<table border=\"1\" class=\"dataframe\">\n",
              "  <thead>\n",
              "    <tr style=\"text-align: right;\">\n",
              "      <th></th>\n",
              "      <th>item_id</th>\n",
              "      <th>pop_percent</th>\n",
              "    </tr>\n",
              "  </thead>\n",
              "  <tbody>\n",
              "    <tr>\n",
              "      <th>0</th>\n",
              "      <td>it_01345</td>\n",
              "      <td>0.98324</td>\n",
              "    </tr>\n",
              "    <tr>\n",
              "      <th>1</th>\n",
              "      <td>it_03431</td>\n",
              "      <td>0.56123</td>\n",
              "    </tr>\n",
              "    <tr>\n",
              "      <th>2</th>\n",
              "      <td>it_04572</td>\n",
              "      <td>0.12098</td>\n",
              "    </tr>\n",
              "    <tr>\n",
              "      <th>3</th>\n",
              "      <td>it_98021</td>\n",
              "      <td>0.35476</td>\n",
              "    </tr>\n",
              "    <tr>\n",
              "      <th>4</th>\n",
              "      <td>it_01298</td>\n",
              "      <td>0.92101</td>\n",
              "    </tr>\n",
              "  </tbody>\n",
              "</table>\n",
              "</div>"
            ],
            "text/plain": [
              "    item_id  pop_percent\n",
              "0  it_01345      0.98324\n",
              "1  it_03431      0.56123\n",
              "2  it_04572      0.12098\n",
              "3  it_98021      0.35476\n",
              "4  it_01298      0.92101"
            ]
          },
          "metadata": {
            "tags": []
          },
          "execution_count": 46
        }
      ]
    },
    {
      "cell_type": "markdown",
      "metadata": {
        "id": "mufC-WNpGlq6"
      },
      "source": [
        "Let's round the **pop_percent** on a scale of **1-10** and also **1-100**."
      ]
    },
    {
      "cell_type": "code",
      "metadata": {
        "colab": {
          "base_uri": "https://localhost:8080/"
        },
        "id": "iZFGCZlC3_7A",
        "outputId": "4aa7bfb9-42b1-4d58-870f-bd3fdad9891a"
      },
      "source": [
        "0.98324*10"
      ],
      "execution_count": null,
      "outputs": [
        {
          "output_type": "execute_result",
          "data": {
            "text/plain": [
              "9.8324"
            ]
          },
          "metadata": {
            "tags": []
          },
          "execution_count": 50
        }
      ]
    },
    {
      "cell_type": "code",
      "metadata": {
        "colab": {
          "base_uri": "https://localhost:8080/"
        },
        "id": "u4sX-uWK30v7",
        "outputId": "be5b8f19-cafe-4311-ad34-25e8f2298621"
      },
      "source": [
        "np.round(0.98324*10)"
      ],
      "execution_count": null,
      "outputs": [
        {
          "output_type": "execute_result",
          "data": {
            "text/plain": [
              "10.0"
            ]
          },
          "metadata": {
            "tags": []
          },
          "execution_count": 49
        }
      ]
    },
    {
      "cell_type": "code",
      "metadata": {
        "colab": {
          "base_uri": "https://localhost:8080/",
          "height": 266
        },
        "id": "BJdeEaJvA75k",
        "outputId": "94a704a3-8469-43f8-9922-ea06c55b2631"
      },
      "source": [
        "item_df['pop_percent(1-10)'] = np.array(\n",
        "                   np.round((item_df['pop_percent'] * 10)),\n",
        "                   dtype='int')\n",
        "\n",
        "\n",
        "item_df['pop_percent(1-100)'] = np.array(\n",
        "                  np.round((item_df['pop_percent'] * 100)),\n",
        "                  dtype='int')\n",
        "item_df\n"
      ],
      "execution_count": null,
      "outputs": [
        {
          "output_type": "execute_result",
          "data": {
            "text/html": [
              "<div>\n",
              "<style scoped>\n",
              "    .dataframe tbody tr th:only-of-type {\n",
              "        vertical-align: middle;\n",
              "    }\n",
              "\n",
              "    .dataframe tbody tr th {\n",
              "        vertical-align: top;\n",
              "    }\n",
              "\n",
              "    .dataframe thead th {\n",
              "        text-align: right;\n",
              "    }\n",
              "</style>\n",
              "<table border=\"1\" class=\"dataframe\">\n",
              "  <thead>\n",
              "    <tr style=\"text-align: right;\">\n",
              "      <th></th>\n",
              "      <th>item_id</th>\n",
              "      <th>pop_percent</th>\n",
              "      <th>pop_percent(1-10)</th>\n",
              "      <th>pop_percent(1-100)</th>\n",
              "    </tr>\n",
              "  </thead>\n",
              "  <tbody>\n",
              "    <tr>\n",
              "      <th>0</th>\n",
              "      <td>it_01345</td>\n",
              "      <td>0.98324</td>\n",
              "      <td>10</td>\n",
              "      <td>98</td>\n",
              "    </tr>\n",
              "    <tr>\n",
              "      <th>1</th>\n",
              "      <td>it_03431</td>\n",
              "      <td>0.56123</td>\n",
              "      <td>6</td>\n",
              "      <td>56</td>\n",
              "    </tr>\n",
              "    <tr>\n",
              "      <th>2</th>\n",
              "      <td>it_04572</td>\n",
              "      <td>0.12098</td>\n",
              "      <td>1</td>\n",
              "      <td>12</td>\n",
              "    </tr>\n",
              "    <tr>\n",
              "      <th>3</th>\n",
              "      <td>it_98021</td>\n",
              "      <td>0.35476</td>\n",
              "      <td>4</td>\n",
              "      <td>35</td>\n",
              "    </tr>\n",
              "    <tr>\n",
              "      <th>4</th>\n",
              "      <td>it_01298</td>\n",
              "      <td>0.92101</td>\n",
              "      <td>9</td>\n",
              "      <td>92</td>\n",
              "    </tr>\n",
              "    <tr>\n",
              "      <th>5</th>\n",
              "      <td>it_90120</td>\n",
              "      <td>0.81212</td>\n",
              "      <td>8</td>\n",
              "      <td>81</td>\n",
              "    </tr>\n",
              "    <tr>\n",
              "      <th>6</th>\n",
              "      <td>it_10123</td>\n",
              "      <td>0.56502</td>\n",
              "      <td>6</td>\n",
              "      <td>57</td>\n",
              "    </tr>\n",
              "  </tbody>\n",
              "</table>\n",
              "</div>"
            ],
            "text/plain": [
              "    item_id  pop_percent  pop_percent(1-10)  pop_percent(1-100)\n",
              "0  it_01345      0.98324                 10                  98\n",
              "1  it_03431      0.56123                  6                  56\n",
              "2  it_04572      0.12098                  1                  12\n",
              "3  it_98021      0.35476                  4                  35\n",
              "4  it_01298      0.92101                  9                  92\n",
              "5  it_90120      0.81212                  8                  81\n",
              "6  it_10123      0.56502                  6                  57"
            ]
          },
          "metadata": {
            "tags": []
          },
          "execution_count": 47
        }
      ]
    },
    {
      "cell_type": "markdown",
      "metadata": {
        "id": "gQf9knmvG-mJ"
      },
      "source": [
        "We can therefore use these values both as numerical or categorical features based on the business problem and objective.\n"
      ]
    },
    {
      "cell_type": "markdown",
      "metadata": {
        "id": "gYHl_2PbQpS4"
      },
      "source": [
        "##From **Continous** To **Categorical**"
      ]
    },
    {
      "cell_type": "markdown",
      "metadata": {
        "id": "cP4TsF6MJrnU"
      },
      "source": [
        "###**Counts**"
      ]
    },
    {
      "cell_type": "markdown",
      "metadata": {
        "id": "B4dZRT6UJ_MO"
      },
      "source": [
        "Let's talk about numerical datasets which talk about **Counts or Frequencie** of items.\n",
        "\n",
        "We will use the *millionsong dataset* which shows the **counts or frequencies** of songs which have been heard by various users."
      ]
    },
    {
      "cell_type": "code",
      "metadata": {
        "id": "zHJSX8MpHCOd"
      },
      "source": [
        "song=pd.read_csv('/content/song_views.txt',encoding='utf-8')\n",
        "song.drop(['user_id','song_id'],axis=1,inplace=True)"
      ],
      "execution_count": null,
      "outputs": []
    },
    {
      "cell_type": "code",
      "metadata": {
        "colab": {
          "base_uri": "https://localhost:8080/",
          "height": 669
        },
        "id": "RQHvJzMBJnQ5",
        "outputId": "d289f07a-650c-495b-e9cb-27a892a42c8d"
      },
      "source": [
        "song.head(20)"
      ],
      "execution_count": null,
      "outputs": [
        {
          "output_type": "execute_result",
          "data": {
            "text/html": [
              "<div>\n",
              "<style scoped>\n",
              "    .dataframe tbody tr th:only-of-type {\n",
              "        vertical-align: middle;\n",
              "    }\n",
              "\n",
              "    .dataframe tbody tr th {\n",
              "        vertical-align: top;\n",
              "    }\n",
              "\n",
              "    .dataframe thead th {\n",
              "        text-align: right;\n",
              "    }\n",
              "</style>\n",
              "<table border=\"1\" class=\"dataframe\">\n",
              "  <thead>\n",
              "    <tr style=\"text-align: right;\">\n",
              "      <th></th>\n",
              "      <th>title</th>\n",
              "      <th>listen_count</th>\n",
              "    </tr>\n",
              "  </thead>\n",
              "  <tbody>\n",
              "    <tr>\n",
              "      <th>0</th>\n",
              "      <td>You're The One</td>\n",
              "      <td>2</td>\n",
              "    </tr>\n",
              "    <tr>\n",
              "      <th>1</th>\n",
              "      <td>You're The One</td>\n",
              "      <td>0</td>\n",
              "    </tr>\n",
              "    <tr>\n",
              "      <th>2</th>\n",
              "      <td>You're The One</td>\n",
              "      <td>0</td>\n",
              "    </tr>\n",
              "    <tr>\n",
              "      <th>3</th>\n",
              "      <td>You're The One</td>\n",
              "      <td>0</td>\n",
              "    </tr>\n",
              "    <tr>\n",
              "      <th>4</th>\n",
              "      <td>You're The One</td>\n",
              "      <td>0</td>\n",
              "    </tr>\n",
              "    <tr>\n",
              "      <th>5</th>\n",
              "      <td>You're The One</td>\n",
              "      <td>0</td>\n",
              "    </tr>\n",
              "    <tr>\n",
              "      <th>6</th>\n",
              "      <td>You're The One</td>\n",
              "      <td>17</td>\n",
              "    </tr>\n",
              "    <tr>\n",
              "      <th>7</th>\n",
              "      <td>You're The One</td>\n",
              "      <td>0</td>\n",
              "    </tr>\n",
              "    <tr>\n",
              "      <th>8</th>\n",
              "      <td>You're The One</td>\n",
              "      <td>68</td>\n",
              "    </tr>\n",
              "    <tr>\n",
              "      <th>9</th>\n",
              "      <td>You're The One</td>\n",
              "      <td>0</td>\n",
              "    </tr>\n",
              "    <tr>\n",
              "      <th>10</th>\n",
              "      <td>You're The One</td>\n",
              "      <td>1</td>\n",
              "    </tr>\n",
              "    <tr>\n",
              "      <th>11</th>\n",
              "      <td>You're The One</td>\n",
              "      <td>0</td>\n",
              "    </tr>\n",
              "    <tr>\n",
              "      <th>12</th>\n",
              "      <td>You're The One</td>\n",
              "      <td>0</td>\n",
              "    </tr>\n",
              "    <tr>\n",
              "      <th>13</th>\n",
              "      <td>You're The One</td>\n",
              "      <td>0</td>\n",
              "    </tr>\n",
              "    <tr>\n",
              "      <th>14</th>\n",
              "      <td>You're The One</td>\n",
              "      <td>0</td>\n",
              "    </tr>\n",
              "    <tr>\n",
              "      <th>15</th>\n",
              "      <td>You're The One</td>\n",
              "      <td>0</td>\n",
              "    </tr>\n",
              "    <tr>\n",
              "      <th>16</th>\n",
              "      <td>You're The One</td>\n",
              "      <td>20</td>\n",
              "    </tr>\n",
              "    <tr>\n",
              "      <th>17</th>\n",
              "      <td>You're The One</td>\n",
              "      <td>0</td>\n",
              "    </tr>\n",
              "    <tr>\n",
              "      <th>18</th>\n",
              "      <td>You're The One</td>\n",
              "      <td>0</td>\n",
              "    </tr>\n",
              "    <tr>\n",
              "      <th>19</th>\n",
              "      <td>You're The One</td>\n",
              "      <td>1</td>\n",
              "    </tr>\n",
              "  </tbody>\n",
              "</table>\n",
              "</div>"
            ],
            "text/plain": [
              "             title  listen_count\n",
              "0   You're The One             2\n",
              "1   You're The One             0\n",
              "2   You're The One             0\n",
              "3   You're The One             0\n",
              "4   You're The One             0\n",
              "5   You're The One             0\n",
              "6   You're The One            17\n",
              "7   You're The One             0\n",
              "8   You're The One            68\n",
              "9   You're The One             0\n",
              "10  You're The One             1\n",
              "11  You're The One             0\n",
              "12  You're The One             0\n",
              "13  You're The One             0\n",
              "14  You're The One             0\n",
              "15  You're The One             0\n",
              "16  You're The One            20\n",
              "17  You're The One             0\n",
              "18  You're The One             0\n",
              "19  You're The One             1"
            ]
          },
          "metadata": {
            "tags": []
          },
          "execution_count": 54
        }
      ]
    },
    {
      "cell_type": "markdown",
      "metadata": {
        "id": "w_KZ0KeLKvfB"
      },
      "source": [
        "From the above dataset, we can see a feature named as ***listen_count***, this feature shows the number of times a user has listened to a song.\n",
        "\n",
        "What if according to our business problem statement, we are only interested in whether a person has listened to a particular song or not in order to make song recommendation?\n",
        "\n",
        "In such a scenario, we will not need to know how many times the user has listened to the song, we just have to figure out whether or not the person has listened to the song.\n",
        "\n",
        "We will therefore do what is called **Binarization**"
      ]
    },
    {
      "cell_type": "markdown",
      "metadata": {
        "id": "wV9ljm9PMMP0"
      },
      "source": [
        "<br>\n",
        "\n",
        "###**Binarization**"
      ]
    },
    {
      "cell_type": "markdown",
      "metadata": {
        "id": "ivP9wc8HNvpb"
      },
      "source": [
        "Binarization is the process of transforming data features of any entity into vectors of binary numbers. Mostly used in transforming an image's gray-scale from the 0-255 spectrum to a 0-1 spectrum"
      ]
    },
    {
      "cell_type": "markdown",
      "metadata": {
        "id": "DNQMBhrlOc6C"
      },
      "source": [
        "**Manual Process**"
      ]
    },
    {
      "cell_type": "code",
      "metadata": {
        "id": "Z4IPrlGtJpBH"
      },
      "source": [
        "has_watched = np.array(song['listen_count'])\n",
        "\n",
        "#let's make all values greater than or equal to (>=) 1 as 1.\n",
        "#Tha's, all users that have listened to the song, either once or more are counted as \"has_watched\".\n",
        "#Since those who have not watched are already marked as zero(0), there's no need to worry about them.\n",
        "\n",
        "has_watched[has_watched >= 1] = 1\n",
        "\n",
        "#add to the dataframe\n",
        "\n",
        "song['has_watched'] = has_watched"
      ],
      "execution_count": null,
      "outputs": []
    },
    {
      "cell_type": "code",
      "metadata": {
        "colab": {
          "base_uri": "https://localhost:8080/",
          "height": 669
        },
        "id": "z59q089nNj3A",
        "outputId": "bf35b353-edfb-4b1d-eec3-553ab769f2e8"
      },
      "source": [
        "song.head(20)"
      ],
      "execution_count": null,
      "outputs": [
        {
          "output_type": "execute_result",
          "data": {
            "text/html": [
              "<div>\n",
              "<style scoped>\n",
              "    .dataframe tbody tr th:only-of-type {\n",
              "        vertical-align: middle;\n",
              "    }\n",
              "\n",
              "    .dataframe tbody tr th {\n",
              "        vertical-align: top;\n",
              "    }\n",
              "\n",
              "    .dataframe thead th {\n",
              "        text-align: right;\n",
              "    }\n",
              "</style>\n",
              "<table border=\"1\" class=\"dataframe\">\n",
              "  <thead>\n",
              "    <tr style=\"text-align: right;\">\n",
              "      <th></th>\n",
              "      <th>title</th>\n",
              "      <th>listen_count</th>\n",
              "      <th>has_watched</th>\n",
              "    </tr>\n",
              "  </thead>\n",
              "  <tbody>\n",
              "    <tr>\n",
              "      <th>0</th>\n",
              "      <td>You're The One</td>\n",
              "      <td>2</td>\n",
              "      <td>1</td>\n",
              "    </tr>\n",
              "    <tr>\n",
              "      <th>1</th>\n",
              "      <td>You're The One</td>\n",
              "      <td>0</td>\n",
              "      <td>0</td>\n",
              "    </tr>\n",
              "    <tr>\n",
              "      <th>2</th>\n",
              "      <td>You're The One</td>\n",
              "      <td>0</td>\n",
              "      <td>0</td>\n",
              "    </tr>\n",
              "    <tr>\n",
              "      <th>3</th>\n",
              "      <td>You're The One</td>\n",
              "      <td>0</td>\n",
              "      <td>0</td>\n",
              "    </tr>\n",
              "    <tr>\n",
              "      <th>4</th>\n",
              "      <td>You're The One</td>\n",
              "      <td>0</td>\n",
              "      <td>0</td>\n",
              "    </tr>\n",
              "    <tr>\n",
              "      <th>5</th>\n",
              "      <td>You're The One</td>\n",
              "      <td>0</td>\n",
              "      <td>0</td>\n",
              "    </tr>\n",
              "    <tr>\n",
              "      <th>6</th>\n",
              "      <td>You're The One</td>\n",
              "      <td>17</td>\n",
              "      <td>1</td>\n",
              "    </tr>\n",
              "    <tr>\n",
              "      <th>7</th>\n",
              "      <td>You're The One</td>\n",
              "      <td>0</td>\n",
              "      <td>0</td>\n",
              "    </tr>\n",
              "    <tr>\n",
              "      <th>8</th>\n",
              "      <td>You're The One</td>\n",
              "      <td>68</td>\n",
              "      <td>1</td>\n",
              "    </tr>\n",
              "    <tr>\n",
              "      <th>9</th>\n",
              "      <td>You're The One</td>\n",
              "      <td>0</td>\n",
              "      <td>0</td>\n",
              "    </tr>\n",
              "    <tr>\n",
              "      <th>10</th>\n",
              "      <td>You're The One</td>\n",
              "      <td>1</td>\n",
              "      <td>1</td>\n",
              "    </tr>\n",
              "    <tr>\n",
              "      <th>11</th>\n",
              "      <td>You're The One</td>\n",
              "      <td>0</td>\n",
              "      <td>0</td>\n",
              "    </tr>\n",
              "    <tr>\n",
              "      <th>12</th>\n",
              "      <td>You're The One</td>\n",
              "      <td>0</td>\n",
              "      <td>0</td>\n",
              "    </tr>\n",
              "    <tr>\n",
              "      <th>13</th>\n",
              "      <td>You're The One</td>\n",
              "      <td>0</td>\n",
              "      <td>0</td>\n",
              "    </tr>\n",
              "    <tr>\n",
              "      <th>14</th>\n",
              "      <td>You're The One</td>\n",
              "      <td>0</td>\n",
              "      <td>0</td>\n",
              "    </tr>\n",
              "    <tr>\n",
              "      <th>15</th>\n",
              "      <td>You're The One</td>\n",
              "      <td>0</td>\n",
              "      <td>0</td>\n",
              "    </tr>\n",
              "    <tr>\n",
              "      <th>16</th>\n",
              "      <td>You're The One</td>\n",
              "      <td>20</td>\n",
              "      <td>1</td>\n",
              "    </tr>\n",
              "    <tr>\n",
              "      <th>17</th>\n",
              "      <td>You're The One</td>\n",
              "      <td>0</td>\n",
              "      <td>0</td>\n",
              "    </tr>\n",
              "    <tr>\n",
              "      <th>18</th>\n",
              "      <td>You're The One</td>\n",
              "      <td>0</td>\n",
              "      <td>0</td>\n",
              "    </tr>\n",
              "    <tr>\n",
              "      <th>19</th>\n",
              "      <td>You're The One</td>\n",
              "      <td>1</td>\n",
              "      <td>1</td>\n",
              "    </tr>\n",
              "  </tbody>\n",
              "</table>\n",
              "</div>"
            ],
            "text/plain": [
              "             title  listen_count  has_watched\n",
              "0   You're The One             2            1\n",
              "1   You're The One             0            0\n",
              "2   You're The One             0            0\n",
              "3   You're The One             0            0\n",
              "4   You're The One             0            0\n",
              "5   You're The One             0            0\n",
              "6   You're The One            17            1\n",
              "7   You're The One             0            0\n",
              "8   You're The One            68            1\n",
              "9   You're The One             0            0\n",
              "10  You're The One             1            1\n",
              "11  You're The One             0            0\n",
              "12  You're The One             0            0\n",
              "13  You're The One             0            0\n",
              "14  You're The One             0            0\n",
              "15  You're The One             0            0\n",
              "16  You're The One            20            1\n",
              "17  You're The One             0            0\n",
              "18  You're The One             0            0\n",
              "19  You're The One             1            1"
            ]
          },
          "metadata": {
            "tags": []
          },
          "execution_count": 41
        }
      ]
    },
    {
      "cell_type": "markdown",
      "metadata": {
        "id": "IhvmoMM4OoKh"
      },
      "source": [
        "<br>\n",
        "\n",
        "**Scikit-learn:** Binarizer\n",
        "\n",
        "Scikit-learn's Binarizer will also help us to achieve the same thing."
      ]
    },
    {
      "cell_type": "code",
      "metadata": {
        "id": "4KEchasSNmrS"
      },
      "source": [
        "#import the Binarizer library\n",
        "from sklearn.preprocessing import Binarizer\n",
        "\n",
        "bin = Binarizer(threshold=0.9)\n",
        "Scikit_has_watched = bin.transform([song['listen_count']])[0]\n",
        "song['Scikit_has_watched'] = Scikit_has_watched"
      ],
      "execution_count": null,
      "outputs": []
    },
    {
      "cell_type": "code",
      "metadata": {
        "colab": {
          "base_uri": "https://localhost:8080/",
          "height": 669
        },
        "id": "hfsg7QwaQdZN",
        "outputId": "173aa254-c259-413e-e1b8-9dd15146a5c7"
      },
      "source": [
        "song.head(20)"
      ],
      "execution_count": null,
      "outputs": [
        {
          "output_type": "execute_result",
          "data": {
            "text/html": [
              "<div>\n",
              "<style scoped>\n",
              "    .dataframe tbody tr th:only-of-type {\n",
              "        vertical-align: middle;\n",
              "    }\n",
              "\n",
              "    .dataframe tbody tr th {\n",
              "        vertical-align: top;\n",
              "    }\n",
              "\n",
              "    .dataframe thead th {\n",
              "        text-align: right;\n",
              "    }\n",
              "</style>\n",
              "<table border=\"1\" class=\"dataframe\">\n",
              "  <thead>\n",
              "    <tr style=\"text-align: right;\">\n",
              "      <th></th>\n",
              "      <th>title</th>\n",
              "      <th>listen_count</th>\n",
              "      <th>has_watched</th>\n",
              "      <th>Scikit_has_watched</th>\n",
              "    </tr>\n",
              "  </thead>\n",
              "  <tbody>\n",
              "    <tr>\n",
              "      <th>0</th>\n",
              "      <td>You're The One</td>\n",
              "      <td>2</td>\n",
              "      <td>1</td>\n",
              "      <td>1</td>\n",
              "    </tr>\n",
              "    <tr>\n",
              "      <th>1</th>\n",
              "      <td>You're The One</td>\n",
              "      <td>0</td>\n",
              "      <td>0</td>\n",
              "      <td>0</td>\n",
              "    </tr>\n",
              "    <tr>\n",
              "      <th>2</th>\n",
              "      <td>You're The One</td>\n",
              "      <td>0</td>\n",
              "      <td>0</td>\n",
              "      <td>0</td>\n",
              "    </tr>\n",
              "    <tr>\n",
              "      <th>3</th>\n",
              "      <td>You're The One</td>\n",
              "      <td>0</td>\n",
              "      <td>0</td>\n",
              "      <td>0</td>\n",
              "    </tr>\n",
              "    <tr>\n",
              "      <th>4</th>\n",
              "      <td>You're The One</td>\n",
              "      <td>0</td>\n",
              "      <td>0</td>\n",
              "      <td>0</td>\n",
              "    </tr>\n",
              "    <tr>\n",
              "      <th>5</th>\n",
              "      <td>You're The One</td>\n",
              "      <td>0</td>\n",
              "      <td>0</td>\n",
              "      <td>0</td>\n",
              "    </tr>\n",
              "    <tr>\n",
              "      <th>6</th>\n",
              "      <td>You're The One</td>\n",
              "      <td>17</td>\n",
              "      <td>1</td>\n",
              "      <td>1</td>\n",
              "    </tr>\n",
              "    <tr>\n",
              "      <th>7</th>\n",
              "      <td>You're The One</td>\n",
              "      <td>0</td>\n",
              "      <td>0</td>\n",
              "      <td>0</td>\n",
              "    </tr>\n",
              "    <tr>\n",
              "      <th>8</th>\n",
              "      <td>You're The One</td>\n",
              "      <td>68</td>\n",
              "      <td>1</td>\n",
              "      <td>1</td>\n",
              "    </tr>\n",
              "    <tr>\n",
              "      <th>9</th>\n",
              "      <td>You're The One</td>\n",
              "      <td>0</td>\n",
              "      <td>0</td>\n",
              "      <td>0</td>\n",
              "    </tr>\n",
              "    <tr>\n",
              "      <th>10</th>\n",
              "      <td>You're The One</td>\n",
              "      <td>1</td>\n",
              "      <td>1</td>\n",
              "      <td>1</td>\n",
              "    </tr>\n",
              "    <tr>\n",
              "      <th>11</th>\n",
              "      <td>You're The One</td>\n",
              "      <td>0</td>\n",
              "      <td>0</td>\n",
              "      <td>0</td>\n",
              "    </tr>\n",
              "    <tr>\n",
              "      <th>12</th>\n",
              "      <td>You're The One</td>\n",
              "      <td>0</td>\n",
              "      <td>0</td>\n",
              "      <td>0</td>\n",
              "    </tr>\n",
              "    <tr>\n",
              "      <th>13</th>\n",
              "      <td>You're The One</td>\n",
              "      <td>0</td>\n",
              "      <td>0</td>\n",
              "      <td>0</td>\n",
              "    </tr>\n",
              "    <tr>\n",
              "      <th>14</th>\n",
              "      <td>You're The One</td>\n",
              "      <td>0</td>\n",
              "      <td>0</td>\n",
              "      <td>0</td>\n",
              "    </tr>\n",
              "    <tr>\n",
              "      <th>15</th>\n",
              "      <td>You're The One</td>\n",
              "      <td>0</td>\n",
              "      <td>0</td>\n",
              "      <td>0</td>\n",
              "    </tr>\n",
              "    <tr>\n",
              "      <th>16</th>\n",
              "      <td>You're The One</td>\n",
              "      <td>20</td>\n",
              "      <td>1</td>\n",
              "      <td>1</td>\n",
              "    </tr>\n",
              "    <tr>\n",
              "      <th>17</th>\n",
              "      <td>You're The One</td>\n",
              "      <td>0</td>\n",
              "      <td>0</td>\n",
              "      <td>0</td>\n",
              "    </tr>\n",
              "    <tr>\n",
              "      <th>18</th>\n",
              "      <td>You're The One</td>\n",
              "      <td>0</td>\n",
              "      <td>0</td>\n",
              "      <td>0</td>\n",
              "    </tr>\n",
              "    <tr>\n",
              "      <th>19</th>\n",
              "      <td>You're The One</td>\n",
              "      <td>1</td>\n",
              "      <td>1</td>\n",
              "      <td>1</td>\n",
              "    </tr>\n",
              "  </tbody>\n",
              "</table>\n",
              "</div>"
            ],
            "text/plain": [
              "             title  listen_count  has_watched  Scikit_has_watched\n",
              "0   You're The One             2            1                   1\n",
              "1   You're The One             0            0                   0\n",
              "2   You're The One             0            0                   0\n",
              "3   You're The One             0            0                   0\n",
              "4   You're The One             0            0                   0\n",
              "5   You're The One             0            0                   0\n",
              "6   You're The One            17            1                   1\n",
              "7   You're The One             0            0                   0\n",
              "8   You're The One            68            1                   1\n",
              "9   You're The One             0            0                   0\n",
              "10  You're The One             1            1                   1\n",
              "11  You're The One             0            0                   0\n",
              "12  You're The One             0            0                   0\n",
              "13  You're The One             0            0                   0\n",
              "14  You're The One             0            0                   0\n",
              "15  You're The One             0            0                   0\n",
              "16  You're The One            20            1                   1\n",
              "17  You're The One             0            0                   0\n",
              "18  You're The One             0            0                   0\n",
              "19  You're The One             1            1                   1"
            ]
          },
          "metadata": {
            "tags": []
          },
          "execution_count": 66
        }
      ]
    },
    {
      "cell_type": "code",
      "metadata": {
        "id": "Se-TJe01Qf8u"
      },
      "source": [],
      "execution_count": null,
      "outputs": []
    },
    {
      "cell_type": "markdown",
      "metadata": {
        "id": "WZvwe6wYRRah"
      },
      "source": [
        "###**Binning/Quantization or Bucketing**"
      ]
    },
    {
      "cell_type": "markdown",
      "metadata": {
        "id": "sWvFfvPRRikx"
      },
      "source": [
        "Logically some songs will have range of values higher than other. That is, some songs have more number of views than others and therefore the count range will be skewed. This will make some of the values occur more frequently than others.\n",
        "\n",
        "Binning/Quantization is used for transforming continuous numeric features into discrete ones (categories).\n",
        "\n",
        "We create categories or bins and then put the raw, continuous numeric values into these bins or groups.\n",
        "\n",
        "Let's see how we do this with an example."
      ]
    },
    {
      "cell_type": "code",
      "metadata": {
        "id": "J4BwrDlTRb4L"
      },
      "source": [
        "fcc=pd.read_csv('/content/fcc_2016.csv',encoding='utf-8')"
      ],
      "execution_count": null,
      "outputs": []
    },
    {
      "cell_type": "code",
      "metadata": {
        "colab": {
          "base_uri": "https://localhost:8080/",
          "height": 428
        },
        "id": "5uu0Dus-dXsk",
        "outputId": "d1066070-3819-4dd5-e17a-437d6412d159"
      },
      "source": [
        "fcc.head()"
      ],
      "execution_count": null,
      "outputs": [
        {
          "output_type": "execute_result",
          "data": {
            "text/html": [
              "<div>\n",
              "<style scoped>\n",
              "    .dataframe tbody tr th:only-of-type {\n",
              "        vertical-align: middle;\n",
              "    }\n",
              "\n",
              "    .dataframe tbody tr th {\n",
              "        vertical-align: top;\n",
              "    }\n",
              "\n",
              "    .dataframe thead th {\n",
              "        text-align: right;\n",
              "    }\n",
              "</style>\n",
              "<table border=\"1\" class=\"dataframe\">\n",
              "  <thead>\n",
              "    <tr style=\"text-align: right;\">\n",
              "      <th></th>\n",
              "      <th>ID.x</th>\n",
              "      <th>Age</th>\n",
              "      <th>ChildrenNumber</th>\n",
              "      <th>CountryCitizen</th>\n",
              "      <th>EmploymentField</th>\n",
              "      <th>EmploymentStatus</th>\n",
              "      <th>ExpectedEarning</th>\n",
              "      <th>Gender</th>\n",
              "      <th>Income</th>\n",
              "      <th>JobPref</th>\n",
              "      <th>JobRoleInterest</th>\n",
              "      <th>LanguageAtHome</th>\n",
              "      <th>MaritalStatus</th>\n",
              "      <th>SchoolDegree</th>\n",
              "      <th>StudentDebtOwe</th>\n",
              "    </tr>\n",
              "  </thead>\n",
              "  <tbody>\n",
              "    <tr>\n",
              "      <th>0</th>\n",
              "      <td>cef35615d61b202f1dc794ef2746df14</td>\n",
              "      <td>28.0</td>\n",
              "      <td>NaN</td>\n",
              "      <td>United States of America</td>\n",
              "      <td>office and administrative support</td>\n",
              "      <td>Employed for wages</td>\n",
              "      <td>NaN</td>\n",
              "      <td>male</td>\n",
              "      <td>32000.0</td>\n",
              "      <td>freelance</td>\n",
              "      <td>NaN</td>\n",
              "      <td>English</td>\n",
              "      <td>married or domestic partnership</td>\n",
              "      <td>some college credit, no degree</td>\n",
              "      <td>20000.0</td>\n",
              "    </tr>\n",
              "    <tr>\n",
              "      <th>1</th>\n",
              "      <td>323e5a113644d18185c743c241407754</td>\n",
              "      <td>22.0</td>\n",
              "      <td>NaN</td>\n",
              "      <td>United States of America</td>\n",
              "      <td>food and beverage</td>\n",
              "      <td>Employed for wages</td>\n",
              "      <td>50000.0</td>\n",
              "      <td>male</td>\n",
              "      <td>15000.0</td>\n",
              "      <td>work for a startup</td>\n",
              "      <td>Front-End Web Developer</td>\n",
              "      <td>English</td>\n",
              "      <td>NaN</td>\n",
              "      <td>some college credit, no degree</td>\n",
              "      <td>NaN</td>\n",
              "    </tr>\n",
              "    <tr>\n",
              "      <th>2</th>\n",
              "      <td>b29a1027e5cd062e654a63764157461d</td>\n",
              "      <td>19.0</td>\n",
              "      <td>NaN</td>\n",
              "      <td>United States of America</td>\n",
              "      <td>finance</td>\n",
              "      <td>Employed for wages</td>\n",
              "      <td>NaN</td>\n",
              "      <td>male</td>\n",
              "      <td>48000.0</td>\n",
              "      <td>start your own business</td>\n",
              "      <td>NaN</td>\n",
              "      <td>English</td>\n",
              "      <td>NaN</td>\n",
              "      <td>high school diploma or equivalent (GED)</td>\n",
              "      <td>NaN</td>\n",
              "    </tr>\n",
              "    <tr>\n",
              "      <th>3</th>\n",
              "      <td>04a11e4bcb573a1261eb0d9948d32637</td>\n",
              "      <td>26.0</td>\n",
              "      <td>NaN</td>\n",
              "      <td>United States of America</td>\n",
              "      <td>arts, entertainment, sports, or media</td>\n",
              "      <td>Employed for wages</td>\n",
              "      <td>65000.0</td>\n",
              "      <td>female</td>\n",
              "      <td>43000.0</td>\n",
              "      <td>work for a startup</td>\n",
              "      <td>Front-End Web Developer</td>\n",
              "      <td>English</td>\n",
              "      <td>NaN</td>\n",
              "      <td>bachelor's degree</td>\n",
              "      <td>7000.0</td>\n",
              "    </tr>\n",
              "    <tr>\n",
              "      <th>4</th>\n",
              "      <td>9368291c93d5d5f5c8cdb1a575e18bec</td>\n",
              "      <td>20.0</td>\n",
              "      <td>NaN</td>\n",
              "      <td>United States of America</td>\n",
              "      <td>education</td>\n",
              "      <td>Employed for wages</td>\n",
              "      <td>45000.0</td>\n",
              "      <td>female</td>\n",
              "      <td>6000.0</td>\n",
              "      <td>work for a medium-sized company</td>\n",
              "      <td>Full-Stack Web Developer</td>\n",
              "      <td>Khmer</td>\n",
              "      <td>NaN</td>\n",
              "      <td>some college credit, no degree</td>\n",
              "      <td>NaN</td>\n",
              "    </tr>\n",
              "  </tbody>\n",
              "</table>\n",
              "</div>"
            ],
            "text/plain": [
              "                               ID.x  ...  StudentDebtOwe\n",
              "0  cef35615d61b202f1dc794ef2746df14  ...         20000.0\n",
              "1  323e5a113644d18185c743c241407754  ...             NaN\n",
              "2  b29a1027e5cd062e654a63764157461d  ...             NaN\n",
              "3  04a11e4bcb573a1261eb0d9948d32637  ...          7000.0\n",
              "4  9368291c93d5d5f5c8cdb1a575e18bec  ...             NaN\n",
              "\n",
              "[5 rows x 15 columns]"
            ]
          },
          "metadata": {
            "tags": []
          },
          "execution_count": 68
        }
      ]
    },
    {
      "cell_type": "markdown",
      "metadata": {
        "id": "drCHjIBVdmlt"
      },
      "source": [
        "Let's select some features to work with."
      ]
    },
    {
      "cell_type": "code",
      "metadata": {
        "colab": {
          "base_uri": "https://localhost:8080/",
          "height": 419
        },
        "id": "ONPAelQNdaWr",
        "outputId": "a1759d7f-50e8-4e7c-bace-fa140f75e8f9"
      },
      "source": [
        "selected_fcc=fcc[['CountryCitizen','Gender','Age','Income']]\n",
        "selected_fcc"
      ],
      "execution_count": null,
      "outputs": [
        {
          "output_type": "execute_result",
          "data": {
            "text/html": [
              "<div>\n",
              "<style scoped>\n",
              "    .dataframe tbody tr th:only-of-type {\n",
              "        vertical-align: middle;\n",
              "    }\n",
              "\n",
              "    .dataframe tbody tr th {\n",
              "        vertical-align: top;\n",
              "    }\n",
              "\n",
              "    .dataframe thead th {\n",
              "        text-align: right;\n",
              "    }\n",
              "</style>\n",
              "<table border=\"1\" class=\"dataframe\">\n",
              "  <thead>\n",
              "    <tr style=\"text-align: right;\">\n",
              "      <th></th>\n",
              "      <th>CountryCitizen</th>\n",
              "      <th>Gender</th>\n",
              "      <th>Age</th>\n",
              "      <th>Income</th>\n",
              "    </tr>\n",
              "  </thead>\n",
              "  <tbody>\n",
              "    <tr>\n",
              "      <th>0</th>\n",
              "      <td>United States of America</td>\n",
              "      <td>male</td>\n",
              "      <td>28.0</td>\n",
              "      <td>32000.0</td>\n",
              "    </tr>\n",
              "    <tr>\n",
              "      <th>1</th>\n",
              "      <td>United States of America</td>\n",
              "      <td>male</td>\n",
              "      <td>22.0</td>\n",
              "      <td>15000.0</td>\n",
              "    </tr>\n",
              "    <tr>\n",
              "      <th>2</th>\n",
              "      <td>United States of America</td>\n",
              "      <td>male</td>\n",
              "      <td>19.0</td>\n",
              "      <td>48000.0</td>\n",
              "    </tr>\n",
              "    <tr>\n",
              "      <th>3</th>\n",
              "      <td>United States of America</td>\n",
              "      <td>female</td>\n",
              "      <td>26.0</td>\n",
              "      <td>43000.0</td>\n",
              "    </tr>\n",
              "    <tr>\n",
              "      <th>4</th>\n",
              "      <td>United States of America</td>\n",
              "      <td>female</td>\n",
              "      <td>20.0</td>\n",
              "      <td>6000.0</td>\n",
              "    </tr>\n",
              "    <tr>\n",
              "      <th>...</th>\n",
              "      <td>...</td>\n",
              "      <td>...</td>\n",
              "      <td>...</td>\n",
              "      <td>...</td>\n",
              "    </tr>\n",
              "    <tr>\n",
              "      <th>15615</th>\n",
              "      <td>Kenya</td>\n",
              "      <td>male</td>\n",
              "      <td>39.0</td>\n",
              "      <td>10000.0</td>\n",
              "    </tr>\n",
              "    <tr>\n",
              "      <th>15616</th>\n",
              "      <td>India</td>\n",
              "      <td>male</td>\n",
              "      <td>27.0</td>\n",
              "      <td>10000.0</td>\n",
              "    </tr>\n",
              "    <tr>\n",
              "      <th>15617</th>\n",
              "      <td>Nigeria</td>\n",
              "      <td>male</td>\n",
              "      <td>37.0</td>\n",
              "      <td>48000.0</td>\n",
              "    </tr>\n",
              "    <tr>\n",
              "      <th>15618</th>\n",
              "      <td>Spain</td>\n",
              "      <td>male</td>\n",
              "      <td>26.0</td>\n",
              "      <td>10000.0</td>\n",
              "    </tr>\n",
              "    <tr>\n",
              "      <th>15619</th>\n",
              "      <td>Trinidad &amp; Tobago</td>\n",
              "      <td>female</td>\n",
              "      <td>22.0</td>\n",
              "      <td>18000.0</td>\n",
              "    </tr>\n",
              "  </tbody>\n",
              "</table>\n",
              "<p>15620 rows × 4 columns</p>\n",
              "</div>"
            ],
            "text/plain": [
              "                 CountryCitizen  Gender   Age   Income\n",
              "0      United States of America    male  28.0  32000.0\n",
              "1      United States of America    male  22.0  15000.0\n",
              "2      United States of America    male  19.0  48000.0\n",
              "3      United States of America  female  26.0  43000.0\n",
              "4      United States of America  female  20.0   6000.0\n",
              "...                         ...     ...   ...      ...\n",
              "15615                     Kenya    male  39.0  10000.0\n",
              "15616                     India    male  27.0  10000.0\n",
              "15617                   Nigeria    male  37.0  48000.0\n",
              "15618                     Spain    male  26.0  10000.0\n",
              "15619         Trinidad & Tobago  female  22.0  18000.0\n",
              "\n",
              "[15620 rows x 4 columns]"
            ]
          },
          "metadata": {
            "tags": []
          },
          "execution_count": 72
        }
      ]
    },
    {
      "cell_type": "code",
      "metadata": {
        "id": "N3e5GzyQirqa"
      },
      "source": [
        "import warnings\n",
        "warnings.filterwarnings(\"ignore\")"
      ],
      "execution_count": null,
      "outputs": []
    },
    {
      "cell_type": "code",
      "metadata": {
        "id": "xmIY8z5hd66r"
      },
      "source": [
        "#set the bin range and the bin labels or names\n",
        "bin_ranges = [0, 20, 40,60, 80, 100]\n",
        "bin_names = [1, 2, 3, 4, 5]\n",
        "\n",
        "selected_fcc['Age_bin'] = pd.cut(\n",
        "                                  np.array(\n",
        "                                  selected_fcc['Age']),\n",
        "                                  bins=bin_ranges)\n",
        "selected_fcc['Age_bin_label'] = pd.cut(\n",
        "                                       np.array(\n",
        "                                       selected_fcc['Age']),\n",
        "                                       bins=bin_ranges,\n",
        "                                       labels=bin_names)"
      ],
      "execution_count": null,
      "outputs": []
    },
    {
      "cell_type": "code",
      "metadata": {
        "colab": {
          "base_uri": "https://localhost:8080/",
          "height": 669
        },
        "id": "AGhg5fJQhBCU",
        "collapsed": true,
        "outputId": "ce7255e7-71ff-4032-f072-3707af077927"
      },
      "source": [
        "# view the binned features\n",
        "selected_fcc.tail(20)"
      ],
      "execution_count": null,
      "outputs": [
        {
          "output_type": "execute_result",
          "data": {
            "text/html": [
              "<div>\n",
              "<style scoped>\n",
              "    .dataframe tbody tr th:only-of-type {\n",
              "        vertical-align: middle;\n",
              "    }\n",
              "\n",
              "    .dataframe tbody tr th {\n",
              "        vertical-align: top;\n",
              "    }\n",
              "\n",
              "    .dataframe thead th {\n",
              "        text-align: right;\n",
              "    }\n",
              "</style>\n",
              "<table border=\"1\" class=\"dataframe\">\n",
              "  <thead>\n",
              "    <tr style=\"text-align: right;\">\n",
              "      <th></th>\n",
              "      <th>CountryCitizen</th>\n",
              "      <th>Gender</th>\n",
              "      <th>Age</th>\n",
              "      <th>Income</th>\n",
              "      <th>Age_bin</th>\n",
              "      <th>Age_bin_label</th>\n",
              "    </tr>\n",
              "  </thead>\n",
              "  <tbody>\n",
              "    <tr>\n",
              "      <th>15600</th>\n",
              "      <td>United States of America</td>\n",
              "      <td>female</td>\n",
              "      <td>28.0</td>\n",
              "      <td>200000.0</td>\n",
              "      <td>(20, 40]</td>\n",
              "      <td>2</td>\n",
              "    </tr>\n",
              "    <tr>\n",
              "      <th>15601</th>\n",
              "      <td>United States of America</td>\n",
              "      <td>male</td>\n",
              "      <td>25.0</td>\n",
              "      <td>200000.0</td>\n",
              "      <td>(20, 40]</td>\n",
              "      <td>2</td>\n",
              "    </tr>\n",
              "    <tr>\n",
              "      <th>15602</th>\n",
              "      <td>India</td>\n",
              "      <td>male</td>\n",
              "      <td>22.0</td>\n",
              "      <td>200000.0</td>\n",
              "      <td>(20, 40]</td>\n",
              "      <td>2</td>\n",
              "    </tr>\n",
              "    <tr>\n",
              "      <th>15603</th>\n",
              "      <td>United States of America</td>\n",
              "      <td>male</td>\n",
              "      <td>33.0</td>\n",
              "      <td>200000.0</td>\n",
              "      <td>(20, 40]</td>\n",
              "      <td>2</td>\n",
              "    </tr>\n",
              "    <tr>\n",
              "      <th>15604</th>\n",
              "      <td>Portugal</td>\n",
              "      <td>male</td>\n",
              "      <td>35.0</td>\n",
              "      <td>200000.0</td>\n",
              "      <td>(20, 40]</td>\n",
              "      <td>2</td>\n",
              "    </tr>\n",
              "    <tr>\n",
              "      <th>15605</th>\n",
              "      <td>Portugal</td>\n",
              "      <td>male</td>\n",
              "      <td>31.0</td>\n",
              "      <td>200000.0</td>\n",
              "      <td>(20, 40]</td>\n",
              "      <td>2</td>\n",
              "    </tr>\n",
              "    <tr>\n",
              "      <th>15606</th>\n",
              "      <td>Canada</td>\n",
              "      <td>male</td>\n",
              "      <td>43.0</td>\n",
              "      <td>200000.0</td>\n",
              "      <td>(40, 60]</td>\n",
              "      <td>3</td>\n",
              "    </tr>\n",
              "    <tr>\n",
              "      <th>15607</th>\n",
              "      <td>Philippines</td>\n",
              "      <td>male</td>\n",
              "      <td>25.0</td>\n",
              "      <td>200000.0</td>\n",
              "      <td>(20, 40]</td>\n",
              "      <td>2</td>\n",
              "    </tr>\n",
              "    <tr>\n",
              "      <th>15608</th>\n",
              "      <td>United States of America</td>\n",
              "      <td>male</td>\n",
              "      <td>43.0</td>\n",
              "      <td>200000.0</td>\n",
              "      <td>(40, 60]</td>\n",
              "      <td>3</td>\n",
              "    </tr>\n",
              "    <tr>\n",
              "      <th>15609</th>\n",
              "      <td>Mexico</td>\n",
              "      <td>male</td>\n",
              "      <td>33.0</td>\n",
              "      <td>200000.0</td>\n",
              "      <td>(20, 40]</td>\n",
              "      <td>2</td>\n",
              "    </tr>\n",
              "    <tr>\n",
              "      <th>15610</th>\n",
              "      <td>United States of America</td>\n",
              "      <td>male</td>\n",
              "      <td>29.0</td>\n",
              "      <td>200000.0</td>\n",
              "      <td>(20, 40]</td>\n",
              "      <td>2</td>\n",
              "    </tr>\n",
              "    <tr>\n",
              "      <th>15611</th>\n",
              "      <td>India</td>\n",
              "      <td>male</td>\n",
              "      <td>37.0</td>\n",
              "      <td>200000.0</td>\n",
              "      <td>(20, 40]</td>\n",
              "      <td>2</td>\n",
              "    </tr>\n",
              "    <tr>\n",
              "      <th>15612</th>\n",
              "      <td>United States of America</td>\n",
              "      <td>female</td>\n",
              "      <td>45.0</td>\n",
              "      <td>200000.0</td>\n",
              "      <td>(40, 60]</td>\n",
              "      <td>3</td>\n",
              "    </tr>\n",
              "    <tr>\n",
              "      <th>15613</th>\n",
              "      <td>South Africa</td>\n",
              "      <td>male</td>\n",
              "      <td>30.0</td>\n",
              "      <td>200000.0</td>\n",
              "      <td>(20, 40]</td>\n",
              "      <td>2</td>\n",
              "    </tr>\n",
              "    <tr>\n",
              "      <th>15614</th>\n",
              "      <td>United States of America</td>\n",
              "      <td>male</td>\n",
              "      <td>47.0</td>\n",
              "      <td>26000.0</td>\n",
              "      <td>(40, 60]</td>\n",
              "      <td>3</td>\n",
              "    </tr>\n",
              "    <tr>\n",
              "      <th>15615</th>\n",
              "      <td>Kenya</td>\n",
              "      <td>male</td>\n",
              "      <td>39.0</td>\n",
              "      <td>10000.0</td>\n",
              "      <td>(20, 40]</td>\n",
              "      <td>2</td>\n",
              "    </tr>\n",
              "    <tr>\n",
              "      <th>15616</th>\n",
              "      <td>India</td>\n",
              "      <td>male</td>\n",
              "      <td>27.0</td>\n",
              "      <td>10000.0</td>\n",
              "      <td>(20, 40]</td>\n",
              "      <td>2</td>\n",
              "    </tr>\n",
              "    <tr>\n",
              "      <th>15617</th>\n",
              "      <td>Nigeria</td>\n",
              "      <td>male</td>\n",
              "      <td>37.0</td>\n",
              "      <td>48000.0</td>\n",
              "      <td>(20, 40]</td>\n",
              "      <td>2</td>\n",
              "    </tr>\n",
              "    <tr>\n",
              "      <th>15618</th>\n",
              "      <td>Spain</td>\n",
              "      <td>male</td>\n",
              "      <td>26.0</td>\n",
              "      <td>10000.0</td>\n",
              "      <td>(20, 40]</td>\n",
              "      <td>2</td>\n",
              "    </tr>\n",
              "    <tr>\n",
              "      <th>15619</th>\n",
              "      <td>Trinidad &amp; Tobago</td>\n",
              "      <td>female</td>\n",
              "      <td>22.0</td>\n",
              "      <td>18000.0</td>\n",
              "      <td>(20, 40]</td>\n",
              "      <td>2</td>\n",
              "    </tr>\n",
              "  </tbody>\n",
              "</table>\n",
              "</div>"
            ],
            "text/plain": [
              "                 CountryCitizen  Gender   Age    Income   Age_bin Age_bin_label\n",
              "15600  United States of America  female  28.0  200000.0  (20, 40]             2\n",
              "15601  United States of America    male  25.0  200000.0  (20, 40]             2\n",
              "15602                     India    male  22.0  200000.0  (20, 40]             2\n",
              "15603  United States of America    male  33.0  200000.0  (20, 40]             2\n",
              "15604                  Portugal    male  35.0  200000.0  (20, 40]             2\n",
              "15605                  Portugal    male  31.0  200000.0  (20, 40]             2\n",
              "15606                    Canada    male  43.0  200000.0  (40, 60]             3\n",
              "15607               Philippines    male  25.0  200000.0  (20, 40]             2\n",
              "15608  United States of America    male  43.0  200000.0  (40, 60]             3\n",
              "15609                    Mexico    male  33.0  200000.0  (20, 40]             2\n",
              "15610  United States of America    male  29.0  200000.0  (20, 40]             2\n",
              "15611                     India    male  37.0  200000.0  (20, 40]             2\n",
              "15612  United States of America  female  45.0  200000.0  (40, 60]             3\n",
              "15613              South Africa    male  30.0  200000.0  (20, 40]             2\n",
              "15614  United States of America    male  47.0   26000.0  (40, 60]             3\n",
              "15615                     Kenya    male  39.0   10000.0  (20, 40]             2\n",
              "15616                     India    male  27.0   10000.0  (20, 40]             2\n",
              "15617                   Nigeria    male  37.0   48000.0  (20, 40]             2\n",
              "15618                     Spain    male  26.0   10000.0  (20, 40]             2\n",
              "15619         Trinidad & Tobago  female  22.0   18000.0  (20, 40]             2"
            ]
          },
          "metadata": {
            "tags": []
          },
          "execution_count": 80
        }
      ]
    },
    {
      "cell_type": "markdown",
      "metadata": {
        "id": "l5S7iwMzjpkc"
      },
      "source": [
        "You can also use [qcut](https://pandas.pydata.org/pandas-docs/stable/reference/api/pandas.qcut.html) to achieve the same"
      ]
    },
    {
      "cell_type": "markdown",
      "metadata": {
        "id": "uDFAbGBxkdID"
      },
      "source": [
        "We will learn more as we progress such as [Feature Transformation](https://colab.research.google.com/drive/1T5qRb3z9eeeuPx7CuWki4uz4sOGw3U8u?usp=sharing), Standardization and Normalisation,\n",
        "\n",
        "\n",
        "\n",
        "\n",
        "NB: add feature transformation link"
      ]
    },
    {
      "cell_type": "markdown",
      "metadata": {
        "id": "ZWLkeUytlPqb"
      },
      "source": [
        "datasets used:\n",
        "\n",
        "![image.png](data:image/png;base64,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)"
      ]
    },
    {
      "cell_type": "code",
      "metadata": {
        "id": "CxLKtReshMpl"
      },
      "source": [],
      "execution_count": null,
      "outputs": []
    }
  ]
}